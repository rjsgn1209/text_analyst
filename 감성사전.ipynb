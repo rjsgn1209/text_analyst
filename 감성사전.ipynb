{
 "cells": [
  {
   "cell_type": "code",
   "execution_count": 1,
   "id": "3d9a5196",
   "metadata": {},
   "outputs": [],
   "source": [
    "import pandas as pd\n",
    "import numpy as np\n",
    "import matplotlib.pyplot as plt\n",
    "import seaborn as sns"
   ]
  },
  {
   "cell_type": "code",
   "execution_count": 3,
   "id": "542d6068",
   "metadata": {},
   "outputs": [
    {
     "name": "stdout",
     "output_type": "stream",
     "text": [
      "Collecting afinn\n",
      "  Downloading afinn-0.1.tar.gz (52 kB)\n",
      "Building wheels for collected packages: afinn\n",
      "  Building wheel for afinn (setup.py): started\n",
      "  Building wheel for afinn (setup.py): finished with status 'done'\n",
      "  Created wheel for afinn: filename=afinn-0.1-py3-none-any.whl size=53448 sha256=32ffc720c5b8b4c7d8c7e7e6f6d95b0cc1f170762a381b4b2f24c656257bf950\n",
      "  Stored in directory: c:\\users\\bitcamp\\appdata\\local\\pip\\cache\\wheels\\9d\\16\\3a\\9f0953027434eab5dadf3f33ab3298fa95afa8292fcf7aba75\n",
      "Successfully built afinn\n",
      "Installing collected packages: afinn\n",
      "Successfully installed afinn-0.1\n"
     ]
    }
   ],
   "source": [
    "! pip install afinn"
   ]
  },
  {
   "cell_type": "code",
   "execution_count": 59,
   "id": "f8cac1b0",
   "metadata": {},
   "outputs": [],
   "source": [
    "from afinn import Afinn\n",
    "from nltk.corpus import stopwords\n",
    "from nltk.stem.porter import PorterStemmer\n",
    "from nltk.tokenize import RegexpTokenizer"
   ]
  },
  {
   "cell_type": "code",
   "execution_count": null,
   "id": "d86b9699",
   "metadata": {},
   "outputs": [],
   "source": []
  },
  {
   "cell_type": "code",
   "execution_count": 4,
   "id": "1bbb4e79",
   "metadata": {},
   "outputs": [],
   "source": [
    "# google drive\n",
    "\n",
    "# aclime\n",
    "# NPC.txt"
   ]
  },
  {
   "cell_type": "code",
   "execution_count": 6,
   "id": "e17e3c10",
   "metadata": {},
   "outputs": [],
   "source": [
    "import glob"
   ]
  },
  {
   "cell_type": "code",
   "execution_count": 208,
   "id": "310b2e8e",
   "metadata": {},
   "outputs": [],
   "source": [
    "pos_reviews = glob.glob('data_files/comments/pos/pos_1/*.txt')\n",
    "neg_reviews = glob.glob('data_files/comments/neg/neg_1/*.txt')"
   ]
  },
  {
   "cell_type": "code",
   "execution_count": 209,
   "id": "c5eb0ede",
   "metadata": {},
   "outputs": [
    {
     "name": "stdout",
     "output_type": "stream",
     "text": [
      "Whoever wrote the screenplay for this movie obviously never consulted any books about Lucille Ball, especially her autobiography. I've never seen so many mistakes in a biopic, ranging from her early years in Celoron and Jamestown to her later years with Desi. I could write a whole list of factual errors, but it would go on for pages. In all, I believe that Lucille Ball is one of those inimitable people who simply cannot be portrayed by anyone other than themselves. If I were Lucie Arnaz and Desi, Jr., I would be irate at how many mistakes were made in this film. The filmmakers tried hard, but the movie seems awfully sloppy to me.\n"
     ]
    }
   ],
   "source": [
    "f = open(pos_reviews[20], 'r')\n",
    "pos_text = f.read()\n",
    "print(text)"
   ]
  },
  {
   "cell_type": "code",
   "execution_count": 210,
   "id": "3bd381c7",
   "metadata": {},
   "outputs": [
    {
     "name": "stdout",
     "output_type": "stream",
     "text": [
      "Whoever wrote the screenplay for this movie obviously never consulted any books about Lucille Ball, especially her autobiography. I've never seen so many mistakes in a biopic, ranging from her early years in Celoron and Jamestown to her later years with Desi. I could write a whole list of factual errors, but it would go on for pages. In all, I believe that Lucille Ball is one of those inimitable people who simply cannot be portrayed by anyone other than themselves. If I were Lucie Arnaz and Desi, Jr., I would be irate at how many mistakes were made in this film. The filmmakers tried hard, but the movie seems awfully sloppy to me.\n"
     ]
    }
   ],
   "source": [
    "f = open(neg_reviews[20], 'r')\n",
    "neg_text = f.read()\n",
    "print(text)"
   ]
  },
  {
   "cell_type": "code",
   "execution_count": null,
   "id": "bb2ffec6",
   "metadata": {},
   "outputs": [],
   "source": []
  },
  {
   "cell_type": "code",
   "execution_count": 211,
   "id": "cc10c3ce",
   "metadata": {},
   "outputs": [],
   "source": [
    "afinn = Afinn()"
   ]
  },
  {
   "cell_type": "code",
   "execution_count": 212,
   "id": "4a05c096",
   "metadata": {},
   "outputs": [
    {
     "data": {
      "text/plain": [
       "14.0"
      ]
     },
     "execution_count": 212,
     "metadata": {},
     "output_type": "execute_result"
    }
   ],
   "source": [
    "afinn.score(pos_text)"
   ]
  },
  {
   "cell_type": "code",
   "execution_count": 213,
   "id": "14c17335",
   "metadata": {},
   "outputs": [
    {
     "data": {
      "text/plain": [
       "-12.0"
      ]
     },
     "execution_count": 213,
     "metadata": {},
     "output_type": "execute_result"
    }
   ],
   "source": [
    "afinn.score(neg_text)"
   ]
  },
  {
   "cell_type": "code",
   "execution_count": null,
   "id": "a1baf876",
   "metadata": {},
   "outputs": [],
   "source": []
  },
  {
   "cell_type": "code",
   "execution_count": 214,
   "id": "bab10dde",
   "metadata": {},
   "outputs": [],
   "source": [
    "nrc = pd.read_csv('./data_files/NRC.txt',engine='python', header=None, sep='\\t')"
   ]
  },
  {
   "cell_type": "code",
   "execution_count": 215,
   "id": "83fe081f",
   "metadata": {},
   "outputs": [
    {
     "data": {
      "text/html": [
       "<div>\n",
       "<style scoped>\n",
       "    .dataframe tbody tr th:only-of-type {\n",
       "        vertical-align: middle;\n",
       "    }\n",
       "\n",
       "    .dataframe tbody tr th {\n",
       "        vertical-align: top;\n",
       "    }\n",
       "\n",
       "    .dataframe thead th {\n",
       "        text-align: right;\n",
       "    }\n",
       "</style>\n",
       "<table border=\"1\" class=\"dataframe\">\n",
       "  <thead>\n",
       "    <tr style=\"text-align: right;\">\n",
       "      <th></th>\n",
       "      <th>0</th>\n",
       "      <th>1</th>\n",
       "      <th>2</th>\n",
       "    </tr>\n",
       "  </thead>\n",
       "  <tbody>\n",
       "    <tr>\n",
       "      <th>0</th>\n",
       "      <td>aback</td>\n",
       "      <td>anger</td>\n",
       "      <td>0</td>\n",
       "    </tr>\n",
       "    <tr>\n",
       "      <th>1</th>\n",
       "      <td>aback</td>\n",
       "      <td>anticipation</td>\n",
       "      <td>0</td>\n",
       "    </tr>\n",
       "    <tr>\n",
       "      <th>2</th>\n",
       "      <td>aback</td>\n",
       "      <td>disgust</td>\n",
       "      <td>0</td>\n",
       "    </tr>\n",
       "    <tr>\n",
       "      <th>3</th>\n",
       "      <td>aback</td>\n",
       "      <td>fear</td>\n",
       "      <td>0</td>\n",
       "    </tr>\n",
       "    <tr>\n",
       "      <th>4</th>\n",
       "      <td>aback</td>\n",
       "      <td>joy</td>\n",
       "      <td>0</td>\n",
       "    </tr>\n",
       "    <tr>\n",
       "      <th>...</th>\n",
       "      <td>...</td>\n",
       "      <td>...</td>\n",
       "      <td>...</td>\n",
       "    </tr>\n",
       "    <tr>\n",
       "      <th>141815</th>\n",
       "      <td>zoom</td>\n",
       "      <td>negative</td>\n",
       "      <td>0</td>\n",
       "    </tr>\n",
       "    <tr>\n",
       "      <th>141816</th>\n",
       "      <td>zoom</td>\n",
       "      <td>positive</td>\n",
       "      <td>0</td>\n",
       "    </tr>\n",
       "    <tr>\n",
       "      <th>141817</th>\n",
       "      <td>zoom</td>\n",
       "      <td>sadness</td>\n",
       "      <td>0</td>\n",
       "    </tr>\n",
       "    <tr>\n",
       "      <th>141818</th>\n",
       "      <td>zoom</td>\n",
       "      <td>surprise</td>\n",
       "      <td>0</td>\n",
       "    </tr>\n",
       "    <tr>\n",
       "      <th>141819</th>\n",
       "      <td>zoom</td>\n",
       "      <td>trust</td>\n",
       "      <td>0</td>\n",
       "    </tr>\n",
       "  </tbody>\n",
       "</table>\n",
       "<p>141820 rows × 3 columns</p>\n",
       "</div>"
      ],
      "text/plain": [
       "            0             1  2\n",
       "0       aback         anger  0\n",
       "1       aback  anticipation  0\n",
       "2       aback       disgust  0\n",
       "3       aback          fear  0\n",
       "4       aback           joy  0\n",
       "...       ...           ... ..\n",
       "141815   zoom      negative  0\n",
       "141816   zoom      positive  0\n",
       "141817   zoom       sadness  0\n",
       "141818   zoom      surprise  0\n",
       "141819   zoom         trust  0\n",
       "\n",
       "[141820 rows x 3 columns]"
      ]
     },
     "execution_count": 215,
     "metadata": {},
     "output_type": "execute_result"
    }
   ],
   "source": [
    "nrc"
   ]
  },
  {
   "cell_type": "code",
   "execution_count": 216,
   "id": "45744ea9",
   "metadata": {},
   "outputs": [
    {
     "data": {
      "text/plain": [
       "anger           14182\n",
       "anticipation    14182\n",
       "disgust         14182\n",
       "fear            14182\n",
       "joy             14182\n",
       "negative        14182\n",
       "positive        14182\n",
       "sadness         14182\n",
       "surprise        14182\n",
       "trust           14182\n",
       "Name: 1, dtype: int64"
      ]
     },
     "execution_count": 216,
     "metadata": {},
     "output_type": "execute_result"
    }
   ],
   "source": [
    "nrc.iloc[:, 1].value_counts()"
   ]
  },
  {
   "cell_type": "code",
   "execution_count": null,
   "id": "c3405066",
   "metadata": {},
   "outputs": [],
   "source": []
  },
  {
   "cell_type": "code",
   "execution_count": 217,
   "id": "0852acb2",
   "metadata": {},
   "outputs": [],
   "source": [
    "nrc = nrc[(nrc != 0).all(1)]"
   ]
  },
  {
   "cell_type": "code",
   "execution_count": null,
   "id": "dbc8d927",
   "metadata": {},
   "outputs": [],
   "source": []
  },
  {
   "cell_type": "code",
   "execution_count": 218,
   "id": "6c3e3103",
   "metadata": {},
   "outputs": [
    {
     "data": {
      "text/html": [
       "<div>\n",
       "<style scoped>\n",
       "    .dataframe tbody tr th:only-of-type {\n",
       "        vertical-align: middle;\n",
       "    }\n",
       "\n",
       "    .dataframe tbody tr th {\n",
       "        vertical-align: top;\n",
       "    }\n",
       "\n",
       "    .dataframe thead th {\n",
       "        text-align: right;\n",
       "    }\n",
       "</style>\n",
       "<table border=\"1\" class=\"dataframe\">\n",
       "  <thead>\n",
       "    <tr style=\"text-align: right;\">\n",
       "      <th></th>\n",
       "      <th>0</th>\n",
       "      <th>1</th>\n",
       "      <th>2</th>\n",
       "    </tr>\n",
       "  </thead>\n",
       "  <tbody>\n",
       "    <tr>\n",
       "      <th>57871</th>\n",
       "      <td>happy</td>\n",
       "      <td>anticipation</td>\n",
       "      <td>1</td>\n",
       "    </tr>\n",
       "    <tr>\n",
       "      <th>57874</th>\n",
       "      <td>happy</td>\n",
       "      <td>joy</td>\n",
       "      <td>1</td>\n",
       "    </tr>\n",
       "    <tr>\n",
       "      <th>57876</th>\n",
       "      <td>happy</td>\n",
       "      <td>positive</td>\n",
       "      <td>1</td>\n",
       "    </tr>\n",
       "    <tr>\n",
       "      <th>57879</th>\n",
       "      <td>happy</td>\n",
       "      <td>trust</td>\n",
       "      <td>1</td>\n",
       "    </tr>\n",
       "  </tbody>\n",
       "</table>\n",
       "</div>"
      ],
      "text/plain": [
       "           0             1  2\n",
       "57871  happy  anticipation  1\n",
       "57874  happy           joy  1\n",
       "57876  happy      positive  1\n",
       "57879  happy         trust  1"
      ]
     },
     "execution_count": 218,
     "metadata": {},
     "output_type": "execute_result"
    }
   ],
   "source": [
    "nrc[nrc[0] == 'happy']"
   ]
  },
  {
   "cell_type": "code",
   "execution_count": 219,
   "id": "ba02e690",
   "metadata": {},
   "outputs": [
    {
     "data": {
      "text/html": [
       "<div>\n",
       "<style scoped>\n",
       "    .dataframe tbody tr th:only-of-type {\n",
       "        vertical-align: middle;\n",
       "    }\n",
       "\n",
       "    .dataframe tbody tr th {\n",
       "        vertical-align: top;\n",
       "    }\n",
       "\n",
       "    .dataframe thead th {\n",
       "        text-align: right;\n",
       "    }\n",
       "</style>\n",
       "<table border=\"1\" class=\"dataframe\">\n",
       "  <thead>\n",
       "    <tr style=\"text-align: right;\">\n",
       "      <th></th>\n",
       "      <th>0</th>\n",
       "      <th>1</th>\n",
       "      <th>2</th>\n",
       "    </tr>\n",
       "  </thead>\n",
       "  <tbody>\n",
       "    <tr>\n",
       "      <th>36260</th>\n",
       "      <td>disaster</td>\n",
       "      <td>anger</td>\n",
       "      <td>1</td>\n",
       "    </tr>\n",
       "    <tr>\n",
       "      <th>36262</th>\n",
       "      <td>disaster</td>\n",
       "      <td>disgust</td>\n",
       "      <td>1</td>\n",
       "    </tr>\n",
       "    <tr>\n",
       "      <th>36263</th>\n",
       "      <td>disaster</td>\n",
       "      <td>fear</td>\n",
       "      <td>1</td>\n",
       "    </tr>\n",
       "    <tr>\n",
       "      <th>36265</th>\n",
       "      <td>disaster</td>\n",
       "      <td>negative</td>\n",
       "      <td>1</td>\n",
       "    </tr>\n",
       "    <tr>\n",
       "      <th>36267</th>\n",
       "      <td>disaster</td>\n",
       "      <td>sadness</td>\n",
       "      <td>1</td>\n",
       "    </tr>\n",
       "    <tr>\n",
       "      <th>36268</th>\n",
       "      <td>disaster</td>\n",
       "      <td>surprise</td>\n",
       "      <td>1</td>\n",
       "    </tr>\n",
       "  </tbody>\n",
       "</table>\n",
       "</div>"
      ],
      "text/plain": [
       "              0         1  2\n",
       "36260  disaster     anger  1\n",
       "36262  disaster   disgust  1\n",
       "36263  disaster      fear  1\n",
       "36265  disaster  negative  1\n",
       "36267  disaster   sadness  1\n",
       "36268  disaster  surprise  1"
      ]
     },
     "execution_count": 219,
     "metadata": {},
     "output_type": "execute_result"
    }
   ],
   "source": [
    "nrc[nrc[0] == 'disaster']"
   ]
  },
  {
   "cell_type": "code",
   "execution_count": 220,
   "id": "379bd87f",
   "metadata": {
    "scrolled": true
   },
   "outputs": [
    {
     "data": {
      "text/html": [
       "<div>\n",
       "<style scoped>\n",
       "    .dataframe tbody tr th:only-of-type {\n",
       "        vertical-align: middle;\n",
       "    }\n",
       "\n",
       "    .dataframe tbody tr th {\n",
       "        vertical-align: top;\n",
       "    }\n",
       "\n",
       "    .dataframe thead th {\n",
       "        text-align: right;\n",
       "    }\n",
       "</style>\n",
       "<table border=\"1\" class=\"dataframe\">\n",
       "  <thead>\n",
       "    <tr style=\"text-align: right;\">\n",
       "      <th></th>\n",
       "      <th>0</th>\n",
       "      <th>1</th>\n",
       "      <th>2</th>\n",
       "    </tr>\n",
       "  </thead>\n",
       "  <tbody>\n",
       "    <tr>\n",
       "      <th>0</th>\n",
       "      <td>abacus</td>\n",
       "      <td>trust</td>\n",
       "      <td>1</td>\n",
       "    </tr>\n",
       "    <tr>\n",
       "      <th>1</th>\n",
       "      <td>abandon</td>\n",
       "      <td>fear</td>\n",
       "      <td>1</td>\n",
       "    </tr>\n",
       "    <tr>\n",
       "      <th>2</th>\n",
       "      <td>abandon</td>\n",
       "      <td>negative</td>\n",
       "      <td>1</td>\n",
       "    </tr>\n",
       "    <tr>\n",
       "      <th>3</th>\n",
       "      <td>abandon</td>\n",
       "      <td>sadness</td>\n",
       "      <td>1</td>\n",
       "    </tr>\n",
       "    <tr>\n",
       "      <th>4</th>\n",
       "      <td>abandoned</td>\n",
       "      <td>anger</td>\n",
       "      <td>1</td>\n",
       "    </tr>\n",
       "    <tr>\n",
       "      <th>...</th>\n",
       "      <td>...</td>\n",
       "      <td>...</td>\n",
       "      <td>...</td>\n",
       "    </tr>\n",
       "    <tr>\n",
       "      <th>13896</th>\n",
       "      <td>zest</td>\n",
       "      <td>anticipation</td>\n",
       "      <td>1</td>\n",
       "    </tr>\n",
       "    <tr>\n",
       "      <th>13897</th>\n",
       "      <td>zest</td>\n",
       "      <td>joy</td>\n",
       "      <td>1</td>\n",
       "    </tr>\n",
       "    <tr>\n",
       "      <th>13898</th>\n",
       "      <td>zest</td>\n",
       "      <td>positive</td>\n",
       "      <td>1</td>\n",
       "    </tr>\n",
       "    <tr>\n",
       "      <th>13899</th>\n",
       "      <td>zest</td>\n",
       "      <td>trust</td>\n",
       "      <td>1</td>\n",
       "    </tr>\n",
       "    <tr>\n",
       "      <th>13900</th>\n",
       "      <td>zip</td>\n",
       "      <td>negative</td>\n",
       "      <td>1</td>\n",
       "    </tr>\n",
       "  </tbody>\n",
       "</table>\n",
       "<p>13901 rows × 3 columns</p>\n",
       "</div>"
      ],
      "text/plain": [
       "               0             1  2\n",
       "0         abacus         trust  1\n",
       "1        abandon          fear  1\n",
       "2        abandon      negative  1\n",
       "3        abandon       sadness  1\n",
       "4      abandoned         anger  1\n",
       "...          ...           ... ..\n",
       "13896       zest  anticipation  1\n",
       "13897       zest           joy  1\n",
       "13898       zest      positive  1\n",
       "13899       zest         trust  1\n",
       "13900        zip      negative  1\n",
       "\n",
       "[13901 rows x 3 columns]"
      ]
     },
     "execution_count": 220,
     "metadata": {},
     "output_type": "execute_result"
    }
   ],
   "source": [
    "nrc = nrc.reset_index(drop=True)\n",
    "nrc"
   ]
  },
  {
   "cell_type": "code",
   "execution_count": null,
   "id": "fbb18cd6",
   "metadata": {},
   "outputs": [],
   "source": []
  },
  {
   "cell_type": "code",
   "execution_count": 221,
   "id": "959fa177",
   "metadata": {},
   "outputs": [],
   "source": [
    "lines1 = pos_text"
   ]
  },
  {
   "cell_type": "code",
   "execution_count": 222,
   "id": "386670dc",
   "metadata": {},
   "outputs": [
    {
     "ename": "AttributeError",
     "evalue": "'list' object has no attribute 'words'",
     "output_type": "error",
     "traceback": [
      "\u001b[1;31m---------------------------------------------------------------------------\u001b[0m",
      "\u001b[1;31mAttributeError\u001b[0m                            Traceback (most recent call last)",
      "\u001b[1;32m~\\AppData\\Local\\Temp/ipykernel_3040/2672187479.py\u001b[0m in \u001b[0;36m<module>\u001b[1;34m\u001b[0m\n\u001b[1;32m----> 1\u001b[1;33m \u001b[0mstopwords\u001b[0m \u001b[1;33m=\u001b[0m \u001b[0mstopwords\u001b[0m\u001b[1;33m.\u001b[0m\u001b[0mwords\u001b[0m\u001b[1;33m(\u001b[0m\u001b[1;34m'english'\u001b[0m\u001b[1;33m)\u001b[0m\u001b[1;33m\u001b[0m\u001b[1;33m\u001b[0m\u001b[0m\n\u001b[0m",
      "\u001b[1;31mAttributeError\u001b[0m: 'list' object has no attribute 'words'"
     ]
    }
   ],
   "source": [
    "stopwords = stopwords.words('english')"
   ]
  },
  {
   "cell_type": "code",
   "execution_count": 223,
   "id": "1a73e448",
   "metadata": {},
   "outputs": [],
   "source": [
    "tokenizer = RegexpTokenizer('[\\w]+')"
   ]
  },
  {
   "cell_type": "code",
   "execution_count": 224,
   "id": "2c9f535c",
   "metadata": {},
   "outputs": [],
   "source": [
    "p_stemmer = PorterStemmer()"
   ]
  },
  {
   "cell_type": "code",
   "execution_count": null,
   "id": "243cdd23",
   "metadata": {},
   "outputs": [],
   "source": []
  },
  {
   "cell_type": "code",
   "execution_count": 225,
   "id": "d0ef317c",
   "metadata": {},
   "outputs": [],
   "source": [
    "raw = lines1.lower()\n",
    "tekens = tokenizer.tokenize(raw)\n",
    "stoped_tokens = [i for i in tekens if not i in stopwords]"
   ]
  },
  {
   "cell_type": "code",
   "execution_count": 226,
   "id": "4496c90a",
   "metadata": {},
   "outputs": [
    {
     "data": {
      "text/plain": [
       "['outstanding',\n",
       " 'build',\n",
       " 'tension',\n",
       " 'focus',\n",
       " 'black',\n",
       " 'white',\n",
       " 'attention',\n",
       " 'superb',\n",
       " 'focus',\n",
       " 'talk',\n",
       " 'agree',\n",
       " 'heighten',\n",
       " 'artistic']"
      ]
     },
     "execution_count": 226,
     "metadata": {},
     "output_type": "execute_result"
    }
   ],
   "source": [
    "match_tokens = [x for x in stoped_tokens if x in list(nrc[0])]\n",
    "match_tokens"
   ]
  },
  {
   "cell_type": "code",
   "execution_count": 227,
   "id": "73dfa3ef",
   "metadata": {},
   "outputs": [
    {
     "name": "stdout",
     "output_type": "stream",
     "text": [
      "['joy' 'negative' 'positive']\n",
      "['positive']\n",
      "['anger']\n",
      "['positive']\n",
      "['negative' 'sadness']\n",
      "['anticipation' 'joy' 'positive' 'trust']\n",
      "['positive']\n",
      "['positive']\n",
      "['positive']\n",
      "['positive']\n",
      "['positive']\n",
      "['fear' 'negative']\n",
      "['positive']\n"
     ]
    },
    {
     "data": {
      "text/plain": [
       "['joy',\n",
       " 'negative',\n",
       " 'positive',\n",
       " 'positive',\n",
       " 'anger',\n",
       " 'positive',\n",
       " 'negative',\n",
       " 'sadness',\n",
       " 'anticipation',\n",
       " 'joy',\n",
       " 'positive',\n",
       " 'trust',\n",
       " 'positive',\n",
       " 'positive',\n",
       " 'positive',\n",
       " 'positive',\n",
       " 'positive',\n",
       " 'fear',\n",
       " 'negative',\n",
       " 'positive']"
      ]
     },
     "execution_count": 227,
     "metadata": {},
     "output_type": "execute_result"
    }
   ],
   "source": [
    "emotion = []\n",
    "\n",
    "for i in match_tokens:\n",
    "    em_word = nrc[nrc[0] == i][1].values\n",
    "    print(em_word)\n",
    "    for j in em_word:\n",
    "        emotion.append(j)\n",
    "emotion"
   ]
  },
  {
   "cell_type": "code",
   "execution_count": 72,
   "id": "1900a5d5",
   "metadata": {},
   "outputs": [
    {
     "data": {
      "text/plain": [
       "positive        10\n",
       "negative         3\n",
       "joy              2\n",
       "anger            1\n",
       "sadness          1\n",
       "anticipation     1\n",
       "trust            1\n",
       "fear             1\n",
       "dtype: int64"
      ]
     },
     "execution_count": 72,
     "metadata": {},
     "output_type": "execute_result"
    }
   ],
   "source": [
    "sent_result = pd.Series(emotion).value_counts()\n",
    "sent_result"
   ]
  },
  {
   "cell_type": "code",
   "execution_count": 228,
   "id": "dc25fe4f",
   "metadata": {},
   "outputs": [],
   "source": [
    "def emotion_score(series):\n",
    "    emot_score = 0\n",
    "    \n",
    "    for j in range(len(series)):\n",
    "        if series.index[j] in ('positive', 'anticipation', 'trust', 'joy', 'surprise'):\n",
    "            emot_score += series.iloc[j]\n",
    "        else:\n",
    "            emot_score -= series.iloc[j]\n",
    "    return emot_score"
   ]
  },
  {
   "cell_type": "code",
   "execution_count": 229,
   "id": "5851f261",
   "metadata": {
    "scrolled": true
   },
   "outputs": [
    {
     "data": {
      "text/plain": [
       "8"
      ]
     },
     "execution_count": 229,
     "metadata": {},
     "output_type": "execute_result"
    }
   ],
   "source": [
    "emotion_score(sent_result)"
   ]
  },
  {
   "cell_type": "code",
   "execution_count": null,
   "id": "579a7e52",
   "metadata": {},
   "outputs": [],
   "source": []
  },
  {
   "cell_type": "code",
   "execution_count": 88,
   "id": "b563dcd7",
   "metadata": {},
   "outputs": [],
   "source": [
    "# 한글 감성어 사전"
   ]
  },
  {
   "cell_type": "code",
   "execution_count": 89,
   "id": "a80e3815",
   "metadata": {},
   "outputs": [],
   "source": [
    "# lexicon > polarity.csv"
   ]
  },
  {
   "cell_type": "code",
   "execution_count": 93,
   "id": "2827568e",
   "metadata": {},
   "outputs": [
    {
     "data": {
      "text/html": [
       "<div>\n",
       "<style scoped>\n",
       "    .dataframe tbody tr th:only-of-type {\n",
       "        vertical-align: middle;\n",
       "    }\n",
       "\n",
       "    .dataframe tbody tr th {\n",
       "        vertical-align: top;\n",
       "    }\n",
       "\n",
       "    .dataframe thead th {\n",
       "        text-align: right;\n",
       "    }\n",
       "</style>\n",
       "<table border=\"1\" class=\"dataframe\">\n",
       "  <thead>\n",
       "    <tr style=\"text-align: right;\">\n",
       "      <th></th>\n",
       "      <th>ngram</th>\n",
       "      <th>freq</th>\n",
       "      <th>COMP</th>\n",
       "      <th>NEG</th>\n",
       "      <th>NEUT</th>\n",
       "      <th>None</th>\n",
       "      <th>POS</th>\n",
       "      <th>max.value</th>\n",
       "      <th>max.prop</th>\n",
       "    </tr>\n",
       "  </thead>\n",
       "  <tbody>\n",
       "    <tr>\n",
       "      <th>0</th>\n",
       "      <td>가*/JKS</td>\n",
       "      <td>1</td>\n",
       "      <td>0.0</td>\n",
       "      <td>0.000000</td>\n",
       "      <td>0.000000</td>\n",
       "      <td>0.0</td>\n",
       "      <td>1.000000</td>\n",
       "      <td>POS</td>\n",
       "      <td>1.000000</td>\n",
       "    </tr>\n",
       "    <tr>\n",
       "      <th>1</th>\n",
       "      <td>가*/JKS;있/VV</td>\n",
       "      <td>1</td>\n",
       "      <td>0.0</td>\n",
       "      <td>0.000000</td>\n",
       "      <td>0.000000</td>\n",
       "      <td>0.0</td>\n",
       "      <td>1.000000</td>\n",
       "      <td>POS</td>\n",
       "      <td>1.000000</td>\n",
       "    </tr>\n",
       "    <tr>\n",
       "      <th>2</th>\n",
       "      <td>가*/JKS;있/VV;었/EP</td>\n",
       "      <td>1</td>\n",
       "      <td>0.0</td>\n",
       "      <td>0.000000</td>\n",
       "      <td>0.000000</td>\n",
       "      <td>0.0</td>\n",
       "      <td>1.000000</td>\n",
       "      <td>POS</td>\n",
       "      <td>1.000000</td>\n",
       "    </tr>\n",
       "    <tr>\n",
       "      <th>3</th>\n",
       "      <td>가*/VV</td>\n",
       "      <td>3</td>\n",
       "      <td>0.0</td>\n",
       "      <td>0.000000</td>\n",
       "      <td>0.000000</td>\n",
       "      <td>0.0</td>\n",
       "      <td>1.000000</td>\n",
       "      <td>POS</td>\n",
       "      <td>1.000000</td>\n",
       "    </tr>\n",
       "    <tr>\n",
       "      <th>4</th>\n",
       "      <td>가*/VV;ㄴ다*/EF</td>\n",
       "      <td>1</td>\n",
       "      <td>0.0</td>\n",
       "      <td>0.000000</td>\n",
       "      <td>0.000000</td>\n",
       "      <td>0.0</td>\n",
       "      <td>1.000000</td>\n",
       "      <td>POS</td>\n",
       "      <td>1.000000</td>\n",
       "    </tr>\n",
       "    <tr>\n",
       "      <th>5</th>\n",
       "      <td>가/JKC</td>\n",
       "      <td>17</td>\n",
       "      <td>0.0</td>\n",
       "      <td>0.470588</td>\n",
       "      <td>0.235294</td>\n",
       "      <td>0.0</td>\n",
       "      <td>0.294118</td>\n",
       "      <td>NEG</td>\n",
       "      <td>0.470588</td>\n",
       "    </tr>\n",
       "    <tr>\n",
       "      <th>6</th>\n",
       "      <td>가/JKC;되/VV</td>\n",
       "      <td>11</td>\n",
       "      <td>0.0</td>\n",
       "      <td>0.363636</td>\n",
       "      <td>0.272727</td>\n",
       "      <td>0.0</td>\n",
       "      <td>0.363636</td>\n",
       "      <td>NEG</td>\n",
       "      <td>0.363636</td>\n",
       "    </tr>\n",
       "    <tr>\n",
       "      <th>7</th>\n",
       "      <td>가/JKC;되/VV;ㄴ/ETM</td>\n",
       "      <td>2</td>\n",
       "      <td>0.0</td>\n",
       "      <td>0.000000</td>\n",
       "      <td>1.000000</td>\n",
       "      <td>0.0</td>\n",
       "      <td>0.000000</td>\n",
       "      <td>NEUT</td>\n",
       "      <td>1.000000</td>\n",
       "    </tr>\n",
       "    <tr>\n",
       "      <th>8</th>\n",
       "      <td>가/JKC;되/VV;ㄹ/ETM</td>\n",
       "      <td>1</td>\n",
       "      <td>0.0</td>\n",
       "      <td>0.000000</td>\n",
       "      <td>1.000000</td>\n",
       "      <td>0.0</td>\n",
       "      <td>0.000000</td>\n",
       "      <td>NEUT</td>\n",
       "      <td>1.000000</td>\n",
       "    </tr>\n",
       "    <tr>\n",
       "      <th>9</th>\n",
       "      <td>가/JKC;되/VV;어/EC</td>\n",
       "      <td>2</td>\n",
       "      <td>0.0</td>\n",
       "      <td>1.000000</td>\n",
       "      <td>0.000000</td>\n",
       "      <td>0.0</td>\n",
       "      <td>0.000000</td>\n",
       "      <td>NEG</td>\n",
       "      <td>1.000000</td>\n",
       "    </tr>\n",
       "  </tbody>\n",
       "</table>\n",
       "</div>"
      ],
      "text/plain": [
       "              ngram  freq  COMP       NEG      NEUT  None       POS max.value  \\\n",
       "0            가*/JKS     1   0.0  0.000000  0.000000   0.0  1.000000       POS   \n",
       "1       가*/JKS;있/VV     1   0.0  0.000000  0.000000   0.0  1.000000       POS   \n",
       "2  가*/JKS;있/VV;었/EP     1   0.0  0.000000  0.000000   0.0  1.000000       POS   \n",
       "3             가*/VV     3   0.0  0.000000  0.000000   0.0  1.000000       POS   \n",
       "4      가*/VV;ㄴ다*/EF     1   0.0  0.000000  0.000000   0.0  1.000000       POS   \n",
       "5             가/JKC    17   0.0  0.470588  0.235294   0.0  0.294118       NEG   \n",
       "6        가/JKC;되/VV    11   0.0  0.363636  0.272727   0.0  0.363636       NEG   \n",
       "7  가/JKC;되/VV;ㄴ/ETM     2   0.0  0.000000  1.000000   0.0  0.000000      NEUT   \n",
       "8  가/JKC;되/VV;ㄹ/ETM     1   0.0  0.000000  1.000000   0.0  0.000000      NEUT   \n",
       "9   가/JKC;되/VV;어/EC     2   0.0  1.000000  0.000000   0.0  0.000000       NEG   \n",
       "\n",
       "   max.prop  \n",
       "0  1.000000  \n",
       "1  1.000000  \n",
       "2  1.000000  \n",
       "3  1.000000  \n",
       "4  1.000000  \n",
       "5  0.470588  \n",
       "6  0.363636  \n",
       "7  1.000000  \n",
       "8  1.000000  \n",
       "9  1.000000  "
      ]
     },
     "execution_count": 93,
     "metadata": {},
     "output_type": "execute_result"
    }
   ],
   "source": [
    "ko_dict = pd.read_csv('data_files/lexicon/polarity.csv')\n",
    "ko_dict.head(10)"
   ]
  },
  {
   "cell_type": "code",
   "execution_count": 91,
   "id": "3040ead9",
   "metadata": {},
   "outputs": [],
   "source": [
    "import csv"
   ]
  },
  {
   "cell_type": "code",
   "execution_count": 136,
   "id": "465caa09",
   "metadata": {},
   "outputs": [],
   "source": [
    "table = dict()\n",
    "\n",
    "with open('data_files/lexicon/polarity.csv', 'r', -1, 'utf-8') as polarity:\n",
    "    next(polarity)\n",
    "    \n",
    "    for line in csv.reader(polarity):\n",
    "        key = str()\n",
    "        for word in line[0].split(';'):\n",
    "            key += word.split('/')[0]\n",
    "        table[key] = {'neg': line[3], 'neut': line[4], 'pos': line[6]}"
   ]
  },
  {
   "cell_type": "code",
   "execution_count": 191,
   "id": "7cbe44a2",
   "metadata": {},
   "outputs": [],
   "source": [
    "columns = ['neg', 'neut', 'pos']\n",
    "df = pd.DataFrame(table.values(), columns=columns)"
   ]
  },
  {
   "cell_type": "code",
   "execution_count": 192,
   "id": "4e125f90",
   "metadata": {},
   "outputs": [],
   "source": [
    "df.index = list(table.keys())"
   ]
  },
  {
   "cell_type": "code",
   "execution_count": 193,
   "id": "638be3f9",
   "metadata": {},
   "outputs": [
    {
     "data": {
      "text/html": [
       "<div>\n",
       "<style scoped>\n",
       "    .dataframe tbody tr th:only-of-type {\n",
       "        vertical-align: middle;\n",
       "    }\n",
       "\n",
       "    .dataframe tbody tr th {\n",
       "        vertical-align: top;\n",
       "    }\n",
       "\n",
       "    .dataframe thead th {\n",
       "        text-align: right;\n",
       "    }\n",
       "</style>\n",
       "<table border=\"1\" class=\"dataframe\">\n",
       "  <thead>\n",
       "    <tr style=\"text-align: right;\">\n",
       "      <th></th>\n",
       "      <th>neg</th>\n",
       "      <th>neut</th>\n",
       "      <th>pos</th>\n",
       "    </tr>\n",
       "  </thead>\n",
       "  <tbody>\n",
       "    <tr>\n",
       "      <th>가*</th>\n",
       "      <td>0</td>\n",
       "      <td>0</td>\n",
       "      <td>1</td>\n",
       "    </tr>\n",
       "    <tr>\n",
       "      <th>가*있</th>\n",
       "      <td>0</td>\n",
       "      <td>0</td>\n",
       "      <td>1</td>\n",
       "    </tr>\n",
       "    <tr>\n",
       "      <th>가*있었</th>\n",
       "      <td>0</td>\n",
       "      <td>0</td>\n",
       "      <td>1</td>\n",
       "    </tr>\n",
       "    <tr>\n",
       "      <th>가*ㄴ다*</th>\n",
       "      <td>0</td>\n",
       "      <td>0</td>\n",
       "      <td>1</td>\n",
       "    </tr>\n",
       "    <tr>\n",
       "      <th>가</th>\n",
       "      <td>0.333333333</td>\n",
       "      <td>0</td>\n",
       "      <td>0.555555556</td>\n",
       "    </tr>\n",
       "    <tr>\n",
       "      <th>...</th>\n",
       "      <td>...</td>\n",
       "      <td>...</td>\n",
       "      <td>...</td>\n",
       "    </tr>\n",
       "    <tr>\n",
       "      <th>힘들ㄹ것</th>\n",
       "      <td>1</td>\n",
       "      <td>0</td>\n",
       "      <td>0</td>\n",
       "    </tr>\n",
       "    <tr>\n",
       "      <th>힘들ㄹ때</th>\n",
       "      <td>1</td>\n",
       "      <td>0</td>\n",
       "      <td>0</td>\n",
       "    </tr>\n",
       "    <tr>\n",
       "      <th>힘차</th>\n",
       "      <td>1</td>\n",
       "      <td>0</td>\n",
       "      <td>0</td>\n",
       "    </tr>\n",
       "    <tr>\n",
       "      <th>힘차ㄴ</th>\n",
       "      <td>1</td>\n",
       "      <td>0</td>\n",
       "      <td>0</td>\n",
       "    </tr>\n",
       "    <tr>\n",
       "      <th>힘차ㄴ붓</th>\n",
       "      <td>1</td>\n",
       "      <td>0</td>\n",
       "      <td>0</td>\n",
       "    </tr>\n",
       "  </tbody>\n",
       "</table>\n",
       "<p>15862 rows × 3 columns</p>\n",
       "</div>"
      ],
      "text/plain": [
       "               neg neut          pos\n",
       "가*               0    0            1\n",
       "가*있              0    0            1\n",
       "가*있었             0    0            1\n",
       "가*ㄴ다*            0    0            1\n",
       "가      0.333333333    0  0.555555556\n",
       "...            ...  ...          ...\n",
       "힘들ㄹ것             1    0            0\n",
       "힘들ㄹ때             1    0            0\n",
       "힘차               1    0            0\n",
       "힘차ㄴ              1    0            0\n",
       "힘차ㄴ붓             1    0            0\n",
       "\n",
       "[15862 rows x 3 columns]"
      ]
     },
     "execution_count": 193,
     "metadata": {},
     "output_type": "execute_result"
    }
   ],
   "source": [
    "df"
   ]
  },
  {
   "cell_type": "code",
   "execution_count": null,
   "id": "b9cae78b",
   "metadata": {},
   "outputs": [],
   "source": []
  }
 ],
 "metadata": {
  "kernelspec": {
   "display_name": "Python 3 (ipykernel)",
   "language": "python",
   "name": "python3"
  },
  "language_info": {
   "codemirror_mode": {
    "name": "ipython",
    "version": 3
   },
   "file_extension": ".py",
   "mimetype": "text/x-python",
   "name": "python",
   "nbconvert_exporter": "python",
   "pygments_lexer": "ipython3",
   "version": "3.7.11"
  }
 },
 "nbformat": 4,
 "nbformat_minor": 5
}
