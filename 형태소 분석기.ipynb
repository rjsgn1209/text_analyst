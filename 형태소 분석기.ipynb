{
 "cells": [
  {
   "cell_type": "code",
   "execution_count": 64,
   "id": "c8a374a6",
   "metadata": {},
   "outputs": [],
   "source": [
    "import pandas as pd\n",
    "import numpy as np\n",
    "import matplotlib.pyplot as plt\n",
    "import seaborn as sns"
   ]
  },
  {
   "cell_type": "code",
   "execution_count": 65,
   "id": "541d4cfb",
   "metadata": {},
   "outputs": [],
   "source": [
    "from konlpy.tag import Kkma, Komoran, Hannanum, Okt"
   ]
  },
  {
   "cell_type": "code",
   "execution_count": 66,
   "id": "321f4ad1",
   "metadata": {},
   "outputs": [],
   "source": [
    "kkma = Kkma()\n",
    "kom = Komoran()\n",
    "han = Hannanum()\n",
    "okt = Okt()"
   ]
  },
  {
   "cell_type": "code",
   "execution_count": 51,
   "id": "639ca382",
   "metadata": {},
   "outputs": [],
   "source": [
    "text = '아버지가 방에 들어가신다'"
   ]
  },
  {
   "cell_type": "code",
   "execution_count": 6,
   "id": "871f8f58",
   "metadata": {},
   "outputs": [
    {
     "data": {
      "text/plain": [
       "['아버지', '가', '방', '에', '들어가', '시', 'ㄴ다']"
      ]
     },
     "execution_count": 6,
     "metadata": {},
     "output_type": "execute_result"
    }
   ],
   "source": [
    "kkma.morphs(text)"
   ]
  },
  {
   "cell_type": "code",
   "execution_count": 9,
   "id": "f83734d6",
   "metadata": {},
   "outputs": [
    {
     "data": {
      "text/plain": [
       "['아버지', '가', '방', '에', '들어가', '시', 'ㄴ다']"
      ]
     },
     "execution_count": 9,
     "metadata": {},
     "output_type": "execute_result"
    }
   ],
   "source": [
    "kom.morphs(text)"
   ]
  },
  {
   "cell_type": "code",
   "execution_count": 10,
   "id": "ec78ddef",
   "metadata": {},
   "outputs": [
    {
     "data": {
      "text/plain": [
       "['아버지', '가', '방', '에', '들', '어', '가', '시ㄴ다']"
      ]
     },
     "execution_count": 10,
     "metadata": {},
     "output_type": "execute_result"
    }
   ],
   "source": [
    "han.morphs(text)"
   ]
  },
  {
   "cell_type": "code",
   "execution_count": 11,
   "id": "bb51cf36",
   "metadata": {},
   "outputs": [
    {
     "data": {
      "text/plain": [
       "['아버지', '가', '방', '에', '들어가신다']"
      ]
     },
     "execution_count": 11,
     "metadata": {},
     "output_type": "execute_result"
    }
   ],
   "source": [
    "okt.morphs(text)"
   ]
  },
  {
   "cell_type": "code",
   "execution_count": null,
   "id": "e74e93ac",
   "metadata": {},
   "outputs": [],
   "source": []
  },
  {
   "cell_type": "code",
   "execution_count": 12,
   "id": "10f5000f",
   "metadata": {},
   "outputs": [],
   "source": [
    "text = '아버지가방에들어가신다'"
   ]
  },
  {
   "cell_type": "code",
   "execution_count": 13,
   "id": "3171021d",
   "metadata": {},
   "outputs": [
    {
     "name": "stdout",
     "output_type": "stream",
     "text": [
      "['아버지', '가방', '에', '들어가', '시', 'ㄴ다']\n",
      "['아버지', '가방', '에', '들어가', '시', 'ㄴ다']\n",
      "['아버지가방에들어가', '이', '시ㄴ다']\n",
      "['아버지', '가방', '에', '들어가신다']\n"
     ]
    }
   ],
   "source": [
    "print(kkma.morphs(text))\n",
    "print(kom.morphs(text))\n",
    "print(han.morphs(text))\n",
    "print(okt.morphs(text))"
   ]
  },
  {
   "cell_type": "code",
   "execution_count": null,
   "id": "d09ea0ce",
   "metadata": {},
   "outputs": [],
   "source": []
  },
  {
   "cell_type": "code",
   "execution_count": 15,
   "id": "1c960ccf",
   "metadata": {},
   "outputs": [
    {
     "name": "stdout",
     "output_type": "stream",
     "text": [
      "['개나리', '동산']\n",
      "['개나리', '동산']\n",
      "['개나리', '피러있', '동산']\n",
      "['개나리', '동산']\n"
     ]
    }
   ],
   "source": [
    "text = '개나리가 피러있는 동산에 누워있고 싶다'\n",
    "\n",
    "print(kkma.nouns(text))\n",
    "print(kom.nouns(text))\n",
    "print(han.nouns(text))\n",
    "print(okt.nouns(text))"
   ]
  },
  {
   "cell_type": "code",
   "execution_count": 16,
   "id": "5065b1b2",
   "metadata": {},
   "outputs": [
    {
     "name": "stdout",
     "output_type": "stream",
     "text": [
      "['개나리', '가', '피', '러', '있', '는', '동산', '에', '눕', '어', '있', '고', '싶', '다']\n",
      "['개나리', '가', '피', '러', '있', '는', '동산', '에', '눕', '어', '있', '고', '싶', '다']\n",
      "['개나리', '가', '피러있', '는', '동산', '에', '눕', '어', '있', '고', '싶', '다']\n",
      "['개나리', '가', '피러', '있는', '동산', '에', '누워있고', '싶다']\n"
     ]
    }
   ],
   "source": [
    "print(kkma.morphs(text))\n",
    "print(kom.morphs(text))\n",
    "print(han.morphs(text))\n",
    "print(okt.morphs(text))"
   ]
  },
  {
   "cell_type": "code",
   "execution_count": null,
   "id": "b936c382",
   "metadata": {},
   "outputs": [],
   "source": []
  },
  {
   "cell_type": "code",
   "execution_count": 17,
   "id": "92c18c71",
   "metadata": {},
   "outputs": [
    {
     "name": "stdout",
     "output_type": "stream",
     "text": [
      "['동산', '개나리']\n",
      "['개나리', '동산']\n",
      "['개나리가피어있는동산에누워잇고싶다']\n",
      "['개나리', '동산']\n"
     ]
    }
   ],
   "source": [
    "text = '개나리가피어있는동산에누워잇고싶다'\n",
    "\n",
    "print(kkma.nouns(text))\n",
    "print(kom.nouns(text))\n",
    "print(han.nouns(text))\n",
    "print(okt.nouns(text))"
   ]
  },
  {
   "cell_type": "code",
   "execution_count": 18,
   "id": "8c79e0d1",
   "metadata": {},
   "outputs": [
    {
     "name": "stdout",
     "output_type": "stream",
     "text": [
      "['개나리', '가', '피', '어', '있', '는', '동산', '에', '눕', '어', '잇', '고', '싶', '다']\n",
      "['개나리', '가', '피', '어', '있', '는', '동산', '에', '눕', '어', '잇', '고', '싶', '다']\n",
      "['개나리가피어있는동산에누워잇고싶다']\n",
      "['개나리', '가', '피어있는', '동산', '에', '누워', '잇고싶다']\n"
     ]
    }
   ],
   "source": [
    "print(kkma.morphs(text))\n",
    "print(kom.morphs(text))\n",
    "print(han.morphs(text))\n",
    "print(okt.morphs(text))"
   ]
  },
  {
   "cell_type": "code",
   "execution_count": null,
   "id": "c30560b7",
   "metadata": {},
   "outputs": [],
   "source": []
  },
  {
   "cell_type": "code",
   "execution_count": 19,
   "id": "84c4f208",
   "metadata": {},
   "outputs": [
    {
     "name": "stdout",
     "output_type": "stream",
     "text": [
      "['ㄱ', 'ㅐ', 'ㄴ', 'ㅏ', 'ㄹ', 'ㅣ', '가피', '어', '어', '있', '는', '동산', '에', '눕', '어', '있', '고', '싶', '다']\n",
      "['개나리', '가', '피', '어', '있', '는', '동산', '에', '눕', '어', '있', '고', '싶', '다']\n",
      "['ㄱㅐㄴㅏㄹㅣ가피어있는동산에누워있고싶다']\n",
      "['ㄱㅐㄴㅏㄹㅣ', '가', '피어있는', '동산', '에', '누워있고싶다']\n"
     ]
    }
   ],
   "source": [
    "text = 'ㄱㅐㄴㅏㄹㅣ가피어있는동산에누워있고싶다'\n",
    "\n",
    "print(kkma.morphs(text))\n",
    "print(kom.morphs(text))\n",
    "print(han.morphs(text))\n",
    "print(okt.morphs(text))"
   ]
  },
  {
   "cell_type": "code",
   "execution_count": null,
   "id": "6e8e0233",
   "metadata": {},
   "outputs": [],
   "source": []
  },
  {
   "cell_type": "code",
   "execution_count": null,
   "id": "ef97b666",
   "metadata": {},
   "outputs": [],
   "source": [
    "text = \"\"\"\n",
    "대통령직인수위원회가 7일 정부조직 개편을 새 정부 출범 이후 진행하겠다는 뜻을 밝혔다. 이에 따라 인수위는 현행 정부조직 체계에 기반해 조각을 추진한다. 여성가족부 장관 후보자도 우선 지명한다.\n",
    "안철수 인수위원장은 이날 서울 종로구 통의동 인수위원회에서 기자회견을 열고 “정부조직개편 문제는 인수위 기간 중 조급하게 결정해 추진하기보다는, 최근 국내외 경제 문제, 그리고 외교안보의 엄중한 상황을 고려해 민생 안정과 외교안보 등 당면한 국정현안 집중이 바람직하다고 판단했다”고 말했다.\n",
    "안 위원장은 “따라서 조각도 현행 정부조직체계 기반해서 추진하기로 결정했다”고 말했다. 안 위원장은 “정부조직개편은 야당은 물론 각계 각층의 다양한 견해가 있을 수 있어, 새 정부는 시급한 민생현안을 최우선으로 챙기며 국정 운영 경험을 바탕으로 공청회 등으로 다양한 의견을 수렴하겠다”고 말했다.\n",
    "안 위원장은 여성가족부 폐지에 대해 “여가부 장관도 조각에서 발표할 예정”이라고 말했다.\n",
    "\"\"\""
   ]
  },
  {
   "cell_type": "code",
   "execution_count": 26,
   "id": "9403914c",
   "metadata": {},
   "outputs": [
    {
     "name": "stdout",
     "output_type": "stream",
     "text": [
      "Wall time: 65.8 ms\n"
     ]
    },
    {
     "data": {
      "text/plain": [
       "[('ㄱ', 'NNG'),\n",
       " ('ㅐ', 'UN'),\n",
       " ('ㄴ', 'JX'),\n",
       " ('ㅏ', 'UN'),\n",
       " ('ㄹ', 'JKO'),\n",
       " ('ㅣ', 'UN'),\n",
       " ('가피', 'NNG'),\n",
       " ('어', 'VV'),\n",
       " ('어', 'ECS'),\n",
       " ('있', 'VXV'),\n",
       " ('는', 'ETD'),\n",
       " ('동산', 'NNG'),\n",
       " ('에', 'JKM'),\n",
       " ('눕', 'VV'),\n",
       " ('어', 'ECS'),\n",
       " ('있', 'VV'),\n",
       " ('고', 'ECE'),\n",
       " ('싶', 'VXA'),\n",
       " ('다', 'EFN')]"
      ]
     },
     "execution_count": 26,
     "metadata": {},
     "output_type": "execute_result"
    }
   ],
   "source": [
    "%%time\n",
    "kkma.pos(text)"
   ]
  },
  {
   "cell_type": "code",
   "execution_count": 27,
   "id": "d21c6ad7",
   "metadata": {},
   "outputs": [
    {
     "name": "stdout",
     "output_type": "stream",
     "text": [
      "Wall time: 997 µs\n"
     ]
    },
    {
     "data": {
      "text/plain": [
       "[('개나리', 'NNP'),\n",
       " ('가', 'JKS'),\n",
       " ('피', 'VV'),\n",
       " ('어', 'EC'),\n",
       " ('있', 'VX'),\n",
       " ('는', 'ETM'),\n",
       " ('동산', 'NNP'),\n",
       " ('에', 'JKB'),\n",
       " ('눕', 'VV'),\n",
       " ('어', 'EC'),\n",
       " ('있', 'VX'),\n",
       " ('고', 'EC'),\n",
       " ('싶', 'VX'),\n",
       " ('다', 'EC')]"
      ]
     },
     "execution_count": 27,
     "metadata": {},
     "output_type": "execute_result"
    }
   ],
   "source": [
    "%%time\n",
    "kom.pos(text)"
   ]
  },
  {
   "cell_type": "code",
   "execution_count": 28,
   "id": "1f8bce78",
   "metadata": {},
   "outputs": [
    {
     "name": "stdout",
     "output_type": "stream",
     "text": [
      "Wall time: 7.98 ms\n"
     ]
    },
    {
     "data": {
      "text/plain": [
       "[('ㄱㅐㄴㅏㄹㅣ가피어있는동산에누워있고싶다', 'N')]"
      ]
     },
     "execution_count": 28,
     "metadata": {},
     "output_type": "execute_result"
    }
   ],
   "source": [
    "%%time\n",
    "han.pos(text)"
   ]
  },
  {
   "cell_type": "code",
   "execution_count": 29,
   "id": "955c1458",
   "metadata": {},
   "outputs": [
    {
     "data": {
      "text/plain": [
       "[('ㄱㅐㄴㅏㄹㅣ', 'KoreanParticle'),\n",
       " ('가', 'Verb'),\n",
       " ('피어있는', 'Verb'),\n",
       " ('동산', 'Noun'),\n",
       " ('에', 'Josa'),\n",
       " ('누워있고싶다', 'Verb')]"
      ]
     },
     "execution_count": 29,
     "metadata": {},
     "output_type": "execute_result"
    }
   ],
   "source": [
    "okt.pos(text)"
   ]
  },
  {
   "cell_type": "code",
   "execution_count": null,
   "id": "a0908a66",
   "metadata": {},
   "outputs": [],
   "source": []
  },
  {
   "cell_type": "code",
   "execution_count": 30,
   "id": "62852b5e",
   "metadata": {},
   "outputs": [],
   "source": [
    "# Mecab"
   ]
  },
  {
   "cell_type": "code",
   "execution_count": 57,
   "id": "e3d1c876",
   "metadata": {},
   "outputs": [
    {
     "ename": "ModuleNotFoundError",
     "evalue": "No module named '_MeCab'",
     "output_type": "error",
     "traceback": [
      "\u001b[1;31m---------------------------------------------------------------------------\u001b[0m",
      "\u001b[1;31mImportError\u001b[0m                               Traceback (most recent call last)",
      "\u001b[1;32m~\\anaconda3\\lib\\site-packages\\MeCab.py\u001b[0m in \u001b[0;36mswig_import_helper\u001b[1;34m()\u001b[0m\n\u001b[0;32m     17\u001b[0m         \u001b[1;32mtry\u001b[0m\u001b[1;33m:\u001b[0m\u001b[1;33m\u001b[0m\u001b[1;33m\u001b[0m\u001b[0m\n\u001b[1;32m---> 18\u001b[1;33m             \u001b[0mfp\u001b[0m\u001b[1;33m,\u001b[0m \u001b[0mpathname\u001b[0m\u001b[1;33m,\u001b[0m \u001b[0mdescription\u001b[0m \u001b[1;33m=\u001b[0m \u001b[0mimp\u001b[0m\u001b[1;33m.\u001b[0m\u001b[0mfind_module\u001b[0m\u001b[1;33m(\u001b[0m\u001b[1;34m'_MeCab'\u001b[0m\u001b[1;33m,\u001b[0m \u001b[1;33m[\u001b[0m\u001b[0mdirname\u001b[0m\u001b[1;33m(\u001b[0m\u001b[0m__file__\u001b[0m\u001b[1;33m)\u001b[0m\u001b[1;33m]\u001b[0m\u001b[1;33m)\u001b[0m\u001b[1;33m\u001b[0m\u001b[1;33m\u001b[0m\u001b[0m\n\u001b[0m\u001b[0;32m     19\u001b[0m         \u001b[1;32mexcept\u001b[0m \u001b[0mImportError\u001b[0m\u001b[1;33m:\u001b[0m\u001b[1;33m\u001b[0m\u001b[1;33m\u001b[0m\u001b[0m\n",
      "\u001b[1;32m~\\anaconda3\\lib\\imp.py\u001b[0m in \u001b[0;36mfind_module\u001b[1;34m(name, path)\u001b[0m\n\u001b[0;32m    295\u001b[0m     \u001b[1;32melse\u001b[0m\u001b[1;33m:\u001b[0m\u001b[1;33m\u001b[0m\u001b[1;33m\u001b[0m\u001b[0m\n\u001b[1;32m--> 296\u001b[1;33m         \u001b[1;32mraise\u001b[0m \u001b[0mImportError\u001b[0m\u001b[1;33m(\u001b[0m\u001b[0m_ERR_MSG\u001b[0m\u001b[1;33m.\u001b[0m\u001b[0mformat\u001b[0m\u001b[1;33m(\u001b[0m\u001b[0mname\u001b[0m\u001b[1;33m)\u001b[0m\u001b[1;33m,\u001b[0m \u001b[0mname\u001b[0m\u001b[1;33m=\u001b[0m\u001b[0mname\u001b[0m\u001b[1;33m)\u001b[0m\u001b[1;33m\u001b[0m\u001b[1;33m\u001b[0m\u001b[0m\n\u001b[0m\u001b[0;32m    297\u001b[0m \u001b[1;33m\u001b[0m\u001b[0m\n",
      "\u001b[1;31mImportError\u001b[0m: No module named '_MeCab'",
      "\nDuring handling of the above exception, another exception occurred:\n",
      "\u001b[1;31mModuleNotFoundError\u001b[0m                       Traceback (most recent call last)",
      "\u001b[1;32m~\\AppData\\Local\\Temp/ipykernel_33612/3892881973.py\u001b[0m in \u001b[0;36m<module>\u001b[1;34m\u001b[0m\n\u001b[1;32m----> 1\u001b[1;33m \u001b[1;32mimport\u001b[0m \u001b[0mMeCab\u001b[0m\u001b[1;33m\u001b[0m\u001b[1;33m\u001b[0m\u001b[0m\n\u001b[0m\u001b[0;32m      2\u001b[0m \u001b[0mmecab\u001b[0m \u001b[1;33m=\u001b[0m \u001b[0mMeCab\u001b[0m\u001b[1;33m.\u001b[0m\u001b[0mTagger\u001b[0m\u001b[1;33m(\u001b[0m\u001b[1;33m)\u001b[0m\u001b[1;33m\u001b[0m\u001b[1;33m\u001b[0m\u001b[0m\n\u001b[0;32m      3\u001b[0m \u001b[0mout\u001b[0m \u001b[1;33m=\u001b[0m \u001b[0mmecab\u001b[0m\u001b[1;33m.\u001b[0m\u001b[0mparse\u001b[0m\u001b[1;33m(\u001b[0m\u001b[1;34m\"오늘은 맑은 날씨이다.\"\u001b[0m\u001b[1;33m)\u001b[0m\u001b[1;33m\u001b[0m\u001b[1;33m\u001b[0m\u001b[0m\n\u001b[0;32m      4\u001b[0m \u001b[0mprint\u001b[0m\u001b[1;33m(\u001b[0m\u001b[0mout\u001b[0m\u001b[1;33m)\u001b[0m\u001b[1;33m\u001b[0m\u001b[1;33m\u001b[0m\u001b[0m\n",
      "\u001b[1;32m~\\anaconda3\\lib\\site-packages\\MeCab.py\u001b[0m in \u001b[0;36m<module>\u001b[1;34m\u001b[0m\n\u001b[0;32m     26\u001b[0m                 \u001b[0mfp\u001b[0m\u001b[1;33m.\u001b[0m\u001b[0mclose\u001b[0m\u001b[1;33m(\u001b[0m\u001b[1;33m)\u001b[0m\u001b[1;33m\u001b[0m\u001b[1;33m\u001b[0m\u001b[0m\n\u001b[0;32m     27\u001b[0m             \u001b[1;32mreturn\u001b[0m \u001b[0m_mod\u001b[0m\u001b[1;33m\u001b[0m\u001b[1;33m\u001b[0m\u001b[0m\n\u001b[1;32m---> 28\u001b[1;33m     \u001b[0m_MeCab\u001b[0m \u001b[1;33m=\u001b[0m \u001b[0mswig_import_helper\u001b[0m\u001b[1;33m(\u001b[0m\u001b[1;33m)\u001b[0m\u001b[1;33m\u001b[0m\u001b[1;33m\u001b[0m\u001b[0m\n\u001b[0m\u001b[0;32m     29\u001b[0m     \u001b[1;32mdel\u001b[0m \u001b[0mswig_import_helper\u001b[0m\u001b[1;33m\u001b[0m\u001b[1;33m\u001b[0m\u001b[0m\n\u001b[0;32m     30\u001b[0m \u001b[1;32melse\u001b[0m\u001b[1;33m:\u001b[0m\u001b[1;33m\u001b[0m\u001b[1;33m\u001b[0m\u001b[0m\n",
      "\u001b[1;32m~\\anaconda3\\lib\\site-packages\\MeCab.py\u001b[0m in \u001b[0;36mswig_import_helper\u001b[1;34m()\u001b[0m\n\u001b[0;32m     18\u001b[0m             \u001b[0mfp\u001b[0m\u001b[1;33m,\u001b[0m \u001b[0mpathname\u001b[0m\u001b[1;33m,\u001b[0m \u001b[0mdescription\u001b[0m \u001b[1;33m=\u001b[0m \u001b[0mimp\u001b[0m\u001b[1;33m.\u001b[0m\u001b[0mfind_module\u001b[0m\u001b[1;33m(\u001b[0m\u001b[1;34m'_MeCab'\u001b[0m\u001b[1;33m,\u001b[0m \u001b[1;33m[\u001b[0m\u001b[0mdirname\u001b[0m\u001b[1;33m(\u001b[0m\u001b[0m__file__\u001b[0m\u001b[1;33m)\u001b[0m\u001b[1;33m]\u001b[0m\u001b[1;33m)\u001b[0m\u001b[1;33m\u001b[0m\u001b[1;33m\u001b[0m\u001b[0m\n\u001b[0;32m     19\u001b[0m         \u001b[1;32mexcept\u001b[0m \u001b[0mImportError\u001b[0m\u001b[1;33m:\u001b[0m\u001b[1;33m\u001b[0m\u001b[1;33m\u001b[0m\u001b[0m\n\u001b[1;32m---> 20\u001b[1;33m             \u001b[1;32mimport\u001b[0m \u001b[0m_MeCab\u001b[0m\u001b[1;33m\u001b[0m\u001b[1;33m\u001b[0m\u001b[0m\n\u001b[0m\u001b[0;32m     21\u001b[0m             \u001b[1;32mreturn\u001b[0m \u001b[0m_MeCab\u001b[0m\u001b[1;33m\u001b[0m\u001b[1;33m\u001b[0m\u001b[0m\n\u001b[0;32m     22\u001b[0m         \u001b[1;32mif\u001b[0m \u001b[0mfp\u001b[0m \u001b[1;32mis\u001b[0m \u001b[1;32mnot\u001b[0m \u001b[1;32mNone\u001b[0m\u001b[1;33m:\u001b[0m\u001b[1;33m\u001b[0m\u001b[1;33m\u001b[0m\u001b[0m\n",
      "\u001b[1;31mModuleNotFoundError\u001b[0m: No module named '_MeCab'"
     ]
    }
   ],
   "source": [
    "import MeCab\n",
    "mecab = MeCab.Tagger()\n",
    "out = mecab.parse(\"오늘은 맑은 날씨이다.\")\n",
    "print(out)"
   ]
  },
  {
   "cell_type": "code",
   "execution_count": null,
   "id": "cccd3aa2",
   "metadata": {},
   "outputs": [],
   "source": []
  }
 ],
 "metadata": {
  "kernelspec": {
   "display_name": "Python 3 (ipykernel)",
   "language": "python",
   "name": "python3"
  },
  "language_info": {
   "codemirror_mode": {
    "name": "ipython",
    "version": 3
   },
   "file_extension": ".py",
   "mimetype": "text/x-python",
   "name": "python",
   "nbconvert_exporter": "python",
   "pygments_lexer": "ipython3",
   "version": "3.9.7"
  }
 },
 "nbformat": 4,
 "nbformat_minor": 5
}
