{
 "cells": [
  {
   "cell_type": "code",
   "execution_count": 1,
   "id": "0a5b7309",
   "metadata": {},
   "outputs": [],
   "source": [
    "# Topic Modeling \n",
    "# 맥락과 관련된 단어들을 이용하여 주제를 찾아내는 알고리즘.."
   ]
  },
  {
   "cell_type": "code",
   "execution_count": 2,
   "id": "f05af52c",
   "metadata": {},
   "outputs": [
    {
     "name": "stdout",
     "output_type": "stream",
     "text": [
      "Collecting gensim\n",
      "  Downloading gensim-4.1.2-cp37-cp37m-win_amd64.whl (24.0 MB)\n",
      "Collecting smart-open>=1.8.1\n",
      "  Downloading smart_open-5.2.1-py3-none-any.whl (58 kB)\n",
      "Collecting Cython==0.29.23\n",
      "  Downloading Cython-0.29.23-cp37-cp37m-win_amd64.whl (1.6 MB)\n",
      "Requirement already satisfied: numpy>=1.17.0 in c:\\users\\bitcamp\\anaconda3\\lib\\site-packages (from gensim) (1.20.3)\n",
      "Requirement already satisfied: scipy>=0.18.1 in c:\\users\\bitcamp\\anaconda3\\lib\\site-packages (from gensim) (1.7.1)\n",
      "Installing collected packages: smart-open, Cython, gensim\n",
      "  Attempting uninstall: Cython\n",
      "    Found existing installation: Cython 0.29.24\n",
      "    Uninstalling Cython-0.29.24:\n",
      "      Successfully uninstalled Cython-0.29.24\n",
      "Successfully installed Cython-0.29.23 gensim-4.1.2 smart-open-5.2.1\n"
     ]
    }
   ],
   "source": [
    "! pip install gensim"
   ]
  },
  {
   "cell_type": "code",
   "execution_count": 54,
   "id": "3aa06cc4",
   "metadata": {},
   "outputs": [],
   "source": [
    "import pandas as pd\n",
    "import numpy as np\n",
    "import matplotlib.pyplot as plt\n",
    "import seaborn as sns"
   ]
  },
  {
   "cell_type": "code",
   "execution_count": 4,
   "id": "ef3bac84",
   "metadata": {},
   "outputs": [],
   "source": [
    "from nltk.corpus import stopwords\n",
    "from nltk.stem.porter import PorterStemmer\n",
    "from gensim import corpora, models\n",
    "import gensim\n",
    "from nltk.tokenize import RegexpTokenizer"
   ]
  },
  {
   "cell_type": "code",
   "execution_count": 70,
   "id": "ddf62fe8",
   "metadata": {},
   "outputs": [],
   "source": [
    "tokenizer = RegexpTokenizer('[\\w]+')"
   ]
  },
  {
   "cell_type": "code",
   "execution_count": 71,
   "id": "7532fcd0",
   "metadata": {},
   "outputs": [],
   "source": [
    "stop_words = stopwords.words('english')"
   ]
  },
  {
   "cell_type": "code",
   "execution_count": 72,
   "id": "29b81bff",
   "metadata": {},
   "outputs": [],
   "source": [
    "p_stemmer = PorterStemmer()  # 어근 복원 : runs, running, ran => run, cars => car"
   ]
  },
  {
   "cell_type": "code",
   "execution_count": null,
   "id": "c9615f98",
   "metadata": {},
   "outputs": [],
   "source": []
  },
  {
   "cell_type": "code",
   "execution_count": 73,
   "id": "f2a9d32b",
   "metadata": {},
   "outputs": [],
   "source": [
    "doc_a = \"Brocolli is good to eat. My brother likes to eat good brocolli, but not my mother.\"\n",
    "doc_b = \"My mother spends a lot of time driving my brother around to baseball practice.\"\n",
    "doc_c = \"Some health experts suggest that driving may cause increased tension and blood pressure.\"\n",
    "doc_d = \"I often feel pressure to perform well at school, but my mother never seems to drive my brother to do better.\"\n",
    "doc_e = \"Health professionals say that brocolli is good for your health.\"\n",
    "doc_f = \"Big data is a term used to refer to data sets that are too large or complex for traditional data-processing application software to adequately deal with.\"\n",
    "doc_g = \"Data with many cases offer greater statistical power, while data with higher complexity may lead to a higher false discovery rate\"\n",
    "doc_h = \"Big data was originally associated with three key concepts: volume, variety, and velocity.\"\n",
    "doc_i = \"A 2016 definition states that 'Big data represents the information assets characterized by such a high volume, velocity and variety to require specific technology and analytical methods for its transformation into value'.\"\n",
    "doc_j = \"Data must be processed with advanced tools to reveal meaningful information.\""
   ]
  },
  {
   "cell_type": "code",
   "execution_count": 74,
   "id": "9676e584",
   "metadata": {},
   "outputs": [],
   "source": [
    "# topic - keyword를 기준으로 keywords의 빈도(중요도)를 계산해서 문서의 유사도\n",
    "\n",
    "\n",
    "# 1. health\n",
    "# 2. food\n",
    "# 3. bigdata\n",
    "# 4. drive\n",
    "# 5. data"
   ]
  },
  {
   "cell_type": "code",
   "execution_count": null,
   "id": "136f472f",
   "metadata": {},
   "outputs": [],
   "source": []
  },
  {
   "cell_type": "code",
   "execution_count": 75,
   "id": "83171d49",
   "metadata": {},
   "outputs": [],
   "source": [
    "doc_set = [doc_a, doc_b, doc_c, doc_d, doc_e, doc_f, doc_g, doc_h, doc_i, doc_j]"
   ]
  },
  {
   "cell_type": "code",
   "execution_count": 76,
   "id": "c139d870",
   "metadata": {},
   "outputs": [],
   "source": [
    "texts = []"
   ]
  },
  {
   "cell_type": "code",
   "execution_count": 77,
   "id": "cb88331d",
   "metadata": {},
   "outputs": [],
   "source": [
    "for w in doc_set:\n",
    "    raw = w.lower()\n",
    "    tokens = tokenizer.tokenize(raw)\n",
    "    stopped_tokens = [i for i in tokens if not i in stop_words]\n",
    "    stemmer_tokens = [p_stemmer.stem(i) for i in stopped_tokens]\n",
    "    texts.append(stemmer_tokens)"
   ]
  },
  {
   "cell_type": "code",
   "execution_count": 78,
   "id": "426622d8",
   "metadata": {
    "scrolled": true
   },
   "outputs": [
    {
     "data": {
      "text/plain": [
       "[['brocolli',\n",
       "  'good',\n",
       "  'eat',\n",
       "  'brother',\n",
       "  'like',\n",
       "  'eat',\n",
       "  'good',\n",
       "  'brocolli',\n",
       "  'mother'],\n",
       " ['mother',\n",
       "  'spend',\n",
       "  'lot',\n",
       "  'time',\n",
       "  'drive',\n",
       "  'brother',\n",
       "  'around',\n",
       "  'basebal',\n",
       "  'practic'],\n",
       " ['health',\n",
       "  'expert',\n",
       "  'suggest',\n",
       "  'drive',\n",
       "  'may',\n",
       "  'caus',\n",
       "  'increas',\n",
       "  'tension',\n",
       "  'blood',\n",
       "  'pressur'],\n",
       " ['often',\n",
       "  'feel',\n",
       "  'pressur',\n",
       "  'perform',\n",
       "  'well',\n",
       "  'school',\n",
       "  'mother',\n",
       "  'never',\n",
       "  'seem',\n",
       "  'drive',\n",
       "  'brother',\n",
       "  'better'],\n",
       " ['health', 'profession', 'say', 'brocolli', 'good', 'health'],\n",
       " ['big',\n",
       "  'data',\n",
       "  'term',\n",
       "  'use',\n",
       "  'refer',\n",
       "  'data',\n",
       "  'set',\n",
       "  'larg',\n",
       "  'complex',\n",
       "  'tradit',\n",
       "  'data',\n",
       "  'process',\n",
       "  'applic',\n",
       "  'softwar',\n",
       "  'adequ',\n",
       "  'deal'],\n",
       " ['data',\n",
       "  'mani',\n",
       "  'case',\n",
       "  'offer',\n",
       "  'greater',\n",
       "  'statist',\n",
       "  'power',\n",
       "  'data',\n",
       "  'higher',\n",
       "  'complex',\n",
       "  'may',\n",
       "  'lead',\n",
       "  'higher',\n",
       "  'fals',\n",
       "  'discoveri',\n",
       "  'rate'],\n",
       " ['big',\n",
       "  'data',\n",
       "  'origin',\n",
       "  'associ',\n",
       "  'three',\n",
       "  'key',\n",
       "  'concept',\n",
       "  'volum',\n",
       "  'varieti',\n",
       "  'veloc'],\n",
       " ['2016',\n",
       "  'definit',\n",
       "  'state',\n",
       "  'big',\n",
       "  'data',\n",
       "  'repres',\n",
       "  'inform',\n",
       "  'asset',\n",
       "  'character',\n",
       "  'high',\n",
       "  'volum',\n",
       "  'veloc',\n",
       "  'varieti',\n",
       "  'requir',\n",
       "  'specif',\n",
       "  'technolog',\n",
       "  'analyt',\n",
       "  'method',\n",
       "  'transform',\n",
       "  'valu'],\n",
       " ['data', 'must', 'process', 'advanc', 'tool', 'reveal', 'meaning', 'inform']]"
      ]
     },
     "execution_count": 78,
     "metadata": {},
     "output_type": "execute_result"
    }
   ],
   "source": [
    "texts"
   ]
  },
  {
   "cell_type": "code",
   "execution_count": null,
   "id": "618f4f9b",
   "metadata": {},
   "outputs": [],
   "source": []
  },
  {
   "cell_type": "code",
   "execution_count": 79,
   "id": "41459f25",
   "metadata": {},
   "outputs": [],
   "source": [
    "dictionary = corpora.Dictionary(texts) # Dictionary : token에 index를 붙여서 사전을"
   ]
  },
  {
   "cell_type": "code",
   "execution_count": 80,
   "id": "293e4bbf",
   "metadata": {
    "collapsed": true
   },
   "outputs": [
    {
     "name": "stdout",
     "output_type": "stream",
     "text": [
      "(0, 'brocolli')\n",
      "(1, 'brother')\n",
      "(2, 'eat')\n",
      "(3, 'good')\n",
      "(4, 'like')\n",
      "(5, 'mother')\n",
      "(6, 'around')\n",
      "(7, 'basebal')\n",
      "(8, 'drive')\n",
      "(9, 'lot')\n",
      "(10, 'practic')\n",
      "(11, 'spend')\n",
      "(12, 'time')\n",
      "(13, 'blood')\n",
      "(14, 'caus')\n",
      "(15, 'expert')\n",
      "(16, 'health')\n",
      "(17, 'increas')\n",
      "(18, 'may')\n",
      "(19, 'pressur')\n",
      "(20, 'suggest')\n",
      "(21, 'tension')\n",
      "(22, 'better')\n",
      "(23, 'feel')\n",
      "(24, 'never')\n",
      "(25, 'often')\n",
      "(26, 'perform')\n",
      "(27, 'school')\n",
      "(28, 'seem')\n",
      "(29, 'well')\n",
      "(30, 'profession')\n",
      "(31, 'say')\n",
      "(32, 'adequ')\n",
      "(33, 'applic')\n",
      "(34, 'big')\n",
      "(35, 'complex')\n",
      "(36, 'data')\n",
      "(37, 'deal')\n",
      "(38, 'larg')\n",
      "(39, 'process')\n",
      "(40, 'refer')\n",
      "(41, 'set')\n",
      "(42, 'softwar')\n",
      "(43, 'term')\n",
      "(44, 'tradit')\n",
      "(45, 'use')\n",
      "(46, 'case')\n",
      "(47, 'discoveri')\n",
      "(48, 'fals')\n",
      "(49, 'greater')\n",
      "(50, 'higher')\n",
      "(51, 'lead')\n",
      "(52, 'mani')\n",
      "(53, 'offer')\n",
      "(54, 'power')\n",
      "(55, 'rate')\n",
      "(56, 'statist')\n",
      "(57, 'associ')\n",
      "(58, 'concept')\n",
      "(59, 'key')\n",
      "(60, 'origin')\n",
      "(61, 'three')\n",
      "(62, 'varieti')\n",
      "(63, 'veloc')\n",
      "(64, 'volum')\n",
      "(65, '2016')\n",
      "(66, 'analyt')\n",
      "(67, 'asset')\n",
      "(68, 'character')\n",
      "(69, 'definit')\n",
      "(70, 'high')\n",
      "(71, 'inform')\n",
      "(72, 'method')\n",
      "(73, 'repres')\n",
      "(74, 'requir')\n",
      "(75, 'specif')\n",
      "(76, 'state')\n",
      "(77, 'technolog')\n",
      "(78, 'transform')\n",
      "(79, 'valu')\n",
      "(80, 'advanc')\n",
      "(81, 'meaning')\n",
      "(82, 'must')\n",
      "(83, 'reveal')\n",
      "(84, 'tool')\n"
     ]
    }
   ],
   "source": [
    "for w in dictionary.items():\n",
    "    print(w)"
   ]
  },
  {
   "cell_type": "code",
   "execution_count": null,
   "id": "e5ad296e",
   "metadata": {},
   "outputs": [],
   "source": []
  },
  {
   "cell_type": "code",
   "execution_count": 81,
   "id": "28478411",
   "metadata": {},
   "outputs": [
    {
     "name": "stdout",
     "output_type": "stream",
     "text": [
      "['brocolli', 'good', 'eat', 'brother', 'like', 'eat', 'good', 'brocolli', 'mother']\n"
     ]
    }
   ],
   "source": [
    "print(texts[0])"
   ]
  },
  {
   "cell_type": "code",
   "execution_count": 82,
   "id": "98185ab3",
   "metadata": {},
   "outputs": [
    {
     "data": {
      "text/plain": [
       "[(0, 2), (1, 1), (2, 2), (3, 2), (4, 1), (5, 1)]"
      ]
     },
     "execution_count": 82,
     "metadata": {},
     "output_type": "execute_result"
    }
   ],
   "source": [
    "dictionary.doc2bow(texts[0]) # token의 빈도를 tuple"
   ]
  },
  {
   "cell_type": "code",
   "execution_count": 83,
   "id": "25f80d22",
   "metadata": {
    "collapsed": true
   },
   "outputs": [
    {
     "data": {
      "text/plain": [
       "[[(0, 2), (1, 1), (2, 2), (3, 2), (4, 1), (5, 1)],\n",
       " [(1, 1), (5, 1), (6, 1), (7, 1), (8, 1), (9, 1), (10, 1), (11, 1), (12, 1)],\n",
       " [(8, 1),\n",
       "  (13, 1),\n",
       "  (14, 1),\n",
       "  (15, 1),\n",
       "  (16, 1),\n",
       "  (17, 1),\n",
       "  (18, 1),\n",
       "  (19, 1),\n",
       "  (20, 1),\n",
       "  (21, 1)],\n",
       " [(1, 1),\n",
       "  (5, 1),\n",
       "  (8, 1),\n",
       "  (19, 1),\n",
       "  (22, 1),\n",
       "  (23, 1),\n",
       "  (24, 1),\n",
       "  (25, 1),\n",
       "  (26, 1),\n",
       "  (27, 1),\n",
       "  (28, 1),\n",
       "  (29, 1)],\n",
       " [(0, 1), (3, 1), (16, 2), (30, 1), (31, 1)],\n",
       " [(32, 1),\n",
       "  (33, 1),\n",
       "  (34, 1),\n",
       "  (35, 1),\n",
       "  (36, 3),\n",
       "  (37, 1),\n",
       "  (38, 1),\n",
       "  (39, 1),\n",
       "  (40, 1),\n",
       "  (41, 1),\n",
       "  (42, 1),\n",
       "  (43, 1),\n",
       "  (44, 1),\n",
       "  (45, 1)],\n",
       " [(18, 1),\n",
       "  (35, 1),\n",
       "  (36, 2),\n",
       "  (46, 1),\n",
       "  (47, 1),\n",
       "  (48, 1),\n",
       "  (49, 1),\n",
       "  (50, 2),\n",
       "  (51, 1),\n",
       "  (52, 1),\n",
       "  (53, 1),\n",
       "  (54, 1),\n",
       "  (55, 1),\n",
       "  (56, 1)],\n",
       " [(34, 1),\n",
       "  (36, 1),\n",
       "  (57, 1),\n",
       "  (58, 1),\n",
       "  (59, 1),\n",
       "  (60, 1),\n",
       "  (61, 1),\n",
       "  (62, 1),\n",
       "  (63, 1),\n",
       "  (64, 1)],\n",
       " [(34, 1),\n",
       "  (36, 1),\n",
       "  (62, 1),\n",
       "  (63, 1),\n",
       "  (64, 1),\n",
       "  (65, 1),\n",
       "  (66, 1),\n",
       "  (67, 1),\n",
       "  (68, 1),\n",
       "  (69, 1),\n",
       "  (70, 1),\n",
       "  (71, 1),\n",
       "  (72, 1),\n",
       "  (73, 1),\n",
       "  (74, 1),\n",
       "  (75, 1),\n",
       "  (76, 1),\n",
       "  (77, 1),\n",
       "  (78, 1),\n",
       "  (79, 1)],\n",
       " [(36, 1), (39, 1), (71, 1), (80, 1), (81, 1), (82, 1), (83, 1), (84, 1)]]"
      ]
     },
     "execution_count": 83,
     "metadata": {},
     "output_type": "execute_result"
    }
   ],
   "source": [
    "corpus = [dictionary.doc2bow(text) for text in texts]\n",
    "corpus"
   ]
  },
  {
   "cell_type": "code",
   "execution_count": 34,
   "id": "4d4df910",
   "metadata": {},
   "outputs": [],
   "source": [
    "ldamodel = gensim.models.ldamodel.LdaModel(corpus, num_topics=3, id2word=dictionary)"
   ]
  },
  {
   "cell_type": "code",
   "execution_count": 35,
   "id": "ae5fa47c",
   "metadata": {},
   "outputs": [
    {
     "data": {
      "text/plain": [
       "[(0,\n",
       "  '0.048*\"health\" + 0.038*\"data\" + 0.027*\"may\" + 0.025*\"big\" + 0.025*\"veloc\" + 0.025*\"varieti\" + 0.024*\"volum\"'),\n",
       " (1,\n",
       "  '0.051*\"data\" + 0.028*\"mother\" + 0.028*\"drive\" + 0.027*\"brother\" + 0.026*\"process\" + 0.020*\"inform\" + 0.019*\"pressur\"'),\n",
       " (2,\n",
       "  '0.046*\"data\" + 0.037*\"good\" + 0.036*\"eat\" + 0.036*\"brocolli\" + 0.028*\"brother\" + 0.026*\"mother\" + 0.021*\"like\"')]"
      ]
     },
     "execution_count": 35,
     "metadata": {},
     "output_type": "execute_result"
    }
   ],
   "source": [
    "ldamodel.print_topics(num_words = 7) # topic별 중요 token"
   ]
  },
  {
   "cell_type": "code",
   "execution_count": null,
   "id": "fe1811f4",
   "metadata": {},
   "outputs": [],
   "source": []
  },
  {
   "cell_type": "code",
   "execution_count": 36,
   "id": "bcc7dba5",
   "metadata": {},
   "outputs": [
    {
     "data": {
      "text/plain": [
       "<gensim.interfaces.TransformedCorpus at 0x1c4d7217c48>"
      ]
     },
     "execution_count": 36,
     "metadata": {},
     "output_type": "execute_result"
    }
   ],
   "source": [
    "ldamodel.get_document_topics(corpus)"
   ]
  },
  {
   "cell_type": "code",
   "execution_count": 37,
   "id": "5ae7ffc8",
   "metadata": {},
   "outputs": [
    {
     "data": {
      "text/plain": [
       "[(0, 0.034419607), (1, 0.034617122), (2, 0.9309633)]"
      ]
     },
     "execution_count": 37,
     "metadata": {},
     "output_type": "execute_result"
    }
   ],
   "source": [
    "ldamodel.get_document_topics(corpus)[0]"
   ]
  },
  {
   "cell_type": "code",
   "execution_count": 38,
   "id": "30bc2504",
   "metadata": {},
   "outputs": [
    {
     "data": {
      "text/plain": [
       "[(0, 0.93755853), (1, 0.031755567), (2, 0.030685876)]"
      ]
     },
     "execution_count": 38,
     "metadata": {},
     "output_type": "execute_result"
    }
   ],
   "source": [
    "ldamodel.get_document_topics(corpus)[2]"
   ]
  },
  {
   "cell_type": "code",
   "execution_count": null,
   "id": "c384eea9",
   "metadata": {},
   "outputs": [],
   "source": []
  },
  {
   "cell_type": "code",
   "execution_count": 39,
   "id": "b3152c7f",
   "metadata": {},
   "outputs": [
    {
     "name": "stdout",
     "output_type": "stream",
     "text": [
      "[(0, 0.034425493), (1, 0.034627516), (2, 0.93094695)]\n",
      "[(0, 0.034124743), (1, 0.92643017), (2, 0.039445087)]\n",
      "[(0, 0.9375582), (1, 0.031755958), (2, 0.030685872)]\n",
      "[(0, 0.02631517), (1, 0.94717824), (2, 0.026506547)]\n",
      "[(0, 0.8963441), (1, 0.047933258), (2, 0.055722587)]\n",
      "[(0, 0.020713067), (1, 0.40159473), (2, 0.5776922)]\n",
      "[(0, 0.9056244), (1, 0.07266392), (2, 0.021711754)]\n",
      "[(0, 0.9366661), (1, 0.031353854), (2, 0.031980053)]\n",
      "[(0, 0.019263204), (1, 0.016655177), (2, 0.96408165)]\n",
      "[(0, 0.037905037), (1, 0.92357504), (2, 0.038519923)]\n"
     ]
    }
   ],
   "source": [
    "for d in ldamodel.get_document_topics(corpus):\n",
    "    print(d)"
   ]
  },
  {
   "cell_type": "code",
   "execution_count": null,
   "id": "e0fd8a09",
   "metadata": {},
   "outputs": [],
   "source": []
  },
  {
   "cell_type": "code",
   "execution_count": 40,
   "id": "89d35248",
   "metadata": {},
   "outputs": [
    {
     "name": "stdout",
     "output_type": "stream",
     "text": [
      "(0, 'female')\n",
      "(1, 'human')\n",
      "(2, 'man')\n",
      "(3, 'boy')\n",
      "(4, 'woman')\n"
     ]
    }
   ],
   "source": [
    "from gensim.corpora import Dictionary\n",
    "text1 = [['man', 'female', 'man', 'human', 'man'], ['woman', 'boy', 'human', 'man', 'woman']]\n",
    "\n",
    "dictionary = Dictionary(text1)\n",
    "for i in dictionary.items():\n",
    "    print(i)"
   ]
  },
  {
   "cell_type": "code",
   "execution_count": 41,
   "id": "6aa98fb6",
   "metadata": {},
   "outputs": [
    {
     "data": {
      "text/plain": [
       "[[(0, 1), (1, 1), (2, 3)], [(1, 1), (2, 1), (3, 1), (4, 2)]]"
      ]
     },
     "execution_count": 41,
     "metadata": {},
     "output_type": "execute_result"
    }
   ],
   "source": [
    "[dictionary.doc2bow(text) for text in text1]"
   ]
  },
  {
   "cell_type": "code",
   "execution_count": 42,
   "id": "68c6322b",
   "metadata": {},
   "outputs": [
    {
     "data": {
      "text/plain": [
       "[(0, 1), (2, 3), (3, 1), (4, 2)]"
      ]
     },
     "execution_count": 42,
     "metadata": {},
     "output_type": "execute_result"
    }
   ],
   "source": [
    "dictionary.doc2bow(['man', 'woman', 'boy', 'female', 'man', 'woman', 'man'])"
   ]
  },
  {
   "cell_type": "code",
   "execution_count": 43,
   "id": "7da64fb6",
   "metadata": {},
   "outputs": [
    {
     "data": {
      "text/plain": [
       "[2, 4, 3, 0, 2, 4, 2]"
      ]
     },
     "execution_count": 43,
     "metadata": {},
     "output_type": "execute_result"
    }
   ],
   "source": [
    "dictionary.doc2idx(['man', 'woman', 'boy', 'female', 'man', 'woman', 'man'])"
   ]
  },
  {
   "cell_type": "code",
   "execution_count": null,
   "id": "068cb935",
   "metadata": {},
   "outputs": [],
   "source": []
  },
  {
   "cell_type": "code",
   "execution_count": 44,
   "id": "9cb204b8",
   "metadata": {},
   "outputs": [],
   "source": [
    "# LDA Topic modeling : perpiexity, coherence\n",
    "\n",
    "# perplexity(훈련)\n",
    "# 문헌 네 주제 출현확률과 주제 내 용어출현 활율"
   ]
  },
  {
   "cell_type": "code",
   "execution_count": 45,
   "id": "e5244ef1",
   "metadata": {},
   "outputs": [
    {
     "name": "stdout",
     "output_type": "stream",
     "text": [
      "-5.18302216200993\n"
     ]
    }
   ],
   "source": [
    "from gensim.models import CoherenceModel\n",
    "\n",
    "print(ldamodel.log_perplexity(corpus))"
   ]
  },
  {
   "cell_type": "code",
   "execution_count": 57,
   "id": "5ba0d776",
   "metadata": {},
   "outputs": [
    {
     "data": {
      "text/plain": [
       "'human'"
      ]
     },
     "execution_count": 57,
     "metadata": {},
     "output_type": "execute_result"
    }
   ],
   "source": []
  },
  {
   "cell_type": "code",
   "execution_count": 69,
   "id": "c0343993",
   "metadata": {},
   "outputs": [
    {
     "name": "stdout",
     "output_type": "stream",
     "text": [
      "(0, 'female')\n",
      "(1, 'human')\n",
      "(2, 'man')\n",
      "(3, 'boy')\n",
      "(4, 'woman')\n"
     ]
    }
   ],
   "source": [
    "for d in dictionary.items():\n",
    "    print(d)"
   ]
  },
  {
   "cell_type": "code",
   "execution_count": 91,
   "id": "63ca8dfa",
   "metadata": {},
   "outputs": [
    {
     "name": "stdout",
     "output_type": "stream",
     "text": [
      "LdaModel(num_terms=85, num_topics=2, decay=0.5, chunksize=2000)\n",
      "LdaModel(num_terms=85, num_topics=3, decay=0.5, chunksize=2000)\n",
      "LdaModel(num_terms=85, num_topics=4, decay=0.5, chunksize=2000)\n",
      "LdaModel(num_terms=85, num_topics=5, decay=0.5, chunksize=2000)\n",
      "LdaModel(num_terms=85, num_topics=6, decay=0.5, chunksize=2000)\n",
      "LdaModel(num_terms=85, num_topics=7, decay=0.5, chunksize=2000)\n",
      "LdaModel(num_terms=85, num_topics=8, decay=0.5, chunksize=2000)\n",
      "LdaModel(num_terms=85, num_topics=9, decay=0.5, chunksize=2000)\n"
     ]
    }
   ],
   "source": [
    "coherence_values = []\n",
    "\n",
    "for i in range(2, 10):\n",
    "    ldamodel = gensim.models.ldamodel.LdaModel(corpus, num_topics=i, id2word=dictionary)\n",
    "    print(ldamodel)\n",
    "    coherence_model_lda = CoherenceModel(model=ldamodel, texts=texts, \\\n",
    "                                                 dictionary=dictionary, topn=10)\n",
    "    coherence_lda = coherence_model_lda.get_coherence()\n",
    "    coherence_values.append(coherence_lda)"
   ]
  },
  {
   "cell_type": "code",
   "execution_count": 92,
   "id": "887fbcf4",
   "metadata": {},
   "outputs": [
    {
     "data": {
      "text/plain": [
       "[<matplotlib.lines.Line2D at 0x1c4dacbd148>]"
      ]
     },
     "execution_count": 92,
     "metadata": {},
     "output_type": "execute_result"
    },
    {
     "data": {
      "image/png": "[encoded data removed]",
      "text/plain": [
       "<Figure size 432x288 with 1 Axes>"
      ]
     },
     "metadata": {
      "needs_background": "light"
     },
     "output_type": "display_data"
    }
   ],
   "source": [
    "plt.plot(range(2, 10), coherence_values)"
   ]
  },
  {
   "cell_type": "code",
   "execution_count": null,
   "id": "6a6aa57c",
   "metadata": {},
   "outputs": [],
   "source": []
  },
  {
   "cell_type": "code",
   "execution_count": 94,
   "id": "263f2aac",
   "metadata": {},
   "outputs": [],
   "source": [
    "# mecab 한글 네이버 댓글 감성분석..\n",
    "# 한글 감성어 사전 이용 네이버 댓글 감성분석.."
   ]
  },
  {
   "cell_type": "code",
   "execution_count": 98,
   "id": "07effecb",
   "metadata": {},
   "outputs": [],
   "source": [
    "import urllib"
   ]
  },
  {
   "cell_type": "code",
   "execution_count": 102,
   "id": "9e291958",
   "metadata": {},
   "outputs": [
    {
     "data": {
      "text/plain": [
       "('data_files/ratings_total.txt', <http.client.HTTPMessage at 0x1c4db9a9f88>)"
      ]
     },
     "execution_count": 102,
     "metadata": {},
     "output_type": "execute_result"
    }
   ],
   "source": [
    "urllib.request.urlretrieve(\"https://raw.githubusercontent.com/bab2min/corpus/master/sentiment/naver_shopping.txt\", filename=\"data_files/ratings_total.txt\")"
   ]
  },
  {
   "cell_type": "code",
   "execution_count": 103,
   "id": "7547f640",
   "metadata": {},
   "outputs": [
    {
     "data": {
      "text/html": [
       "<div>\n",
       "<style scoped>\n",
       "    .dataframe tbody tr th:only-of-type {\n",
       "        vertical-align: middle;\n",
       "    }\n",
       "\n",
       "    .dataframe tbody tr th {\n",
       "        vertical-align: top;\n",
       "    }\n",
       "\n",
       "    .dataframe thead th {\n",
       "        text-align: right;\n",
       "    }\n",
       "</style>\n",
       "<table border=\"1\" class=\"dataframe\">\n",
       "  <thead>\n",
       "    <tr style=\"text-align: right;\">\n",
       "      <th></th>\n",
       "      <th>ratings</th>\n",
       "      <th>reviews</th>\n",
       "    </tr>\n",
       "  </thead>\n",
       "  <tbody>\n",
       "    <tr>\n",
       "      <th>0</th>\n",
       "      <td>5</td>\n",
       "      <td>배공빠르고 굿</td>\n",
       "    </tr>\n",
       "    <tr>\n",
       "      <th>1</th>\n",
       "      <td>2</td>\n",
       "      <td>택배가 엉망이네용 저희집 밑에층에 말도없이 놔두고가고</td>\n",
       "    </tr>\n",
       "    <tr>\n",
       "      <th>2</th>\n",
       "      <td>5</td>\n",
       "      <td>아주좋아요 바지 정말 좋아서2개 더 구매했어요 이가격에 대박입니다. 바느질이 조금 ...</td>\n",
       "    </tr>\n",
       "    <tr>\n",
       "      <th>3</th>\n",
       "      <td>2</td>\n",
       "      <td>선물용으로 빨리 받아서 전달했어야 하는 상품이었는데 머그컵만 와서 당황했습니다. 전...</td>\n",
       "    </tr>\n",
       "    <tr>\n",
       "      <th>4</th>\n",
       "      <td>5</td>\n",
       "      <td>민트색상 예뻐요. 옆 손잡이는 거는 용도로도 사용되네요 ㅎㅎ</td>\n",
       "    </tr>\n",
       "    <tr>\n",
       "      <th>...</th>\n",
       "      <td>...</td>\n",
       "      <td>...</td>\n",
       "    </tr>\n",
       "    <tr>\n",
       "      <th>199995</th>\n",
       "      <td>2</td>\n",
       "      <td>장마라그런가!!! 달지않아요</td>\n",
       "    </tr>\n",
       "    <tr>\n",
       "      <th>199996</th>\n",
       "      <td>5</td>\n",
       "      <td>다이슨 케이스 구매했어요 다이슨 슈퍼소닉 드라이기 케이스 구매했어요가격 괜찮고 배송...</td>\n",
       "    </tr>\n",
       "    <tr>\n",
       "      <th>199997</th>\n",
       "      <td>5</td>\n",
       "      <td>로드샾에서 사는것보다 세배 저렴하네요 ㅜㅜ 자주이용할께요</td>\n",
       "    </tr>\n",
       "    <tr>\n",
       "      <th>199998</th>\n",
       "      <td>5</td>\n",
       "      <td>넘이쁘고 쎄련되보이네요~</td>\n",
       "    </tr>\n",
       "    <tr>\n",
       "      <th>199999</th>\n",
       "      <td>5</td>\n",
       "      <td>아직 사용해보지도않았고 다른 제품을 써본적이없어서 잘 모르겠지만 ㅎㅎ 배송은 빨랐습니다</td>\n",
       "    </tr>\n",
       "  </tbody>\n",
       "</table>\n",
       "<p>200000 rows × 2 columns</p>\n",
       "</div>"
      ],
      "text/plain": [
       "        ratings                                            reviews\n",
       "0             5                                            배공빠르고 굿\n",
       "1             2                      택배가 엉망이네용 저희집 밑에층에 말도없이 놔두고가고\n",
       "2             5  아주좋아요 바지 정말 좋아서2개 더 구매했어요 이가격에 대박입니다. 바느질이 조금 ...\n",
       "3             2  선물용으로 빨리 받아서 전달했어야 하는 상품이었는데 머그컵만 와서 당황했습니다. 전...\n",
       "4             5                  민트색상 예뻐요. 옆 손잡이는 거는 용도로도 사용되네요 ㅎㅎ\n",
       "...         ...                                                ...\n",
       "199995        2                                    장마라그런가!!! 달지않아요\n",
       "199996        5  다이슨 케이스 구매했어요 다이슨 슈퍼소닉 드라이기 케이스 구매했어요가격 괜찮고 배송...\n",
       "199997        5                    로드샾에서 사는것보다 세배 저렴하네요 ㅜㅜ 자주이용할께요\n",
       "199998        5                                      넘이쁘고 쎄련되보이네요~\n",
       "199999        5   아직 사용해보지도않았고 다른 제품을 써본적이없어서 잘 모르겠지만 ㅎㅎ 배송은 빨랐습니다\n",
       "\n",
       "[200000 rows x 2 columns]"
      ]
     },
     "execution_count": 103,
     "metadata": {},
     "output_type": "execute_result"
    }
   ],
   "source": [
    "total_data = pd.read_table('data_files/ratings_total.txt', names=['ratings', 'reviews'])\n",
    "total_data"
   ]
  },
  {
   "cell_type": "code",
   "execution_count": 105,
   "id": "85828867",
   "metadata": {},
   "outputs": [
    {
     "data": {
      "text/plain": [
       "array(['배공빠르고 굿', '택배가 엉망이네용 저희집 밑에층에 말도없이 놔두고가고',\n",
       "       '아주좋아요 바지 정말 좋아서2개 더 구매했어요 이가격에 대박입니다. 바느질이 조금 엉성하긴 하지만 편하고 가성비 최고예요.',\n",
       "       ..., '로드샾에서 사는것보다 세배 저렴하네요 ㅜㅜ 자주이용할께요', '넘이쁘고 쎄련되보이네요~',\n",
       "       '아직 사용해보지도않았고 다른 제품을 써본적이없어서 잘 모르겠지만 ㅎㅎ 배송은 빨랐습니다'], dtype=object)"
      ]
     },
     "execution_count": 105,
     "metadata": {},
     "output_type": "execute_result"
    }
   ],
   "source": [
    "total_data['reviews'].values"
   ]
  },
  {
   "cell_type": "code",
   "execution_count": null,
   "id": "ab135977",
   "metadata": {},
   "outputs": [],
   "source": []
  },
  {
   "cell_type": "code",
   "execution_count": null,
   "id": "372dd7bb",
   "metadata": {},
   "outputs": [],
   "source": []
  },
  {
   "cell_type": "code",
   "execution_count": null,
   "id": "6bec139e",
   "metadata": {},
   "outputs": [],
   "source": []
  },
  {
   "cell_type": "code",
   "execution_count": null,
   "id": "d1f1fffe",
   "metadata": {},
   "outputs": [],
   "source": []
  },
  {
   "cell_type": "code",
   "execution_count": null,
   "id": "8bb918d5",
   "metadata": {},
   "outputs": [],
   "source": []
  },
  {
   "cell_type": "code",
   "execution_count": null,
   "id": "46afc30f",
   "metadata": {},
   "outputs": [],
   "source": []
  }
 ],
 "metadata": {
  "kernelspec": {
   "display_name": "Python 3 (ipykernel)",
   "language": "python",
   "name": "python3"
  },
  "language_info": {
   "codemirror_mode": {
    "name": "ipython",
    "version": 3
   },
   "file_extension": ".py",
   "mimetype": "text/x-python",
   "name": "python",
   "nbconvert_exporter": "python",
   "pygments_lexer": "ipython3",
   "version": "3.7.11"
  }
 },
 "nbformat": 4,
 "nbformat_minor": 5
}
